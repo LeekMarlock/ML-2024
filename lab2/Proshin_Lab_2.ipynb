{
 "cells": [
  {
   "cell_type": "markdown",
   "metadata": {},
   "source": [
    "# Лабораторная работа №2"
   ]
  },
  {
   "cell_type": "markdown",
   "metadata": {},
   "source": [
    "В качестве набора данных мы будем использовать набор данных о популярных книгах - https://www.kaggle.com/datasets/tanmay43sharma/goodreads-popular-books-dataset\n",
    "\n",
    "\n",
    "\n",
    "Каждый файл содержит в себе следющие колонки:\n",
    "\n",
    "- book_id\n",
    "- goodreads_book_id\n",
    "- best_book_id\n",
    "- work_id\n",
    "- books_count\n",
    "- isbn\n",
    "- isbn13\n",
    "- authors\n",
    "- original_publication_year\n",
    "- original_title\n",
    "- title\n",
    "- language_code\n",
    "- average_rating\n",
    "- ratings_count\n",
    "- work_ratings_count\n",
    "- work_text_reviews_count\n",
    "- ratings_1\n",
    "- ratings_2\n",
    "- ratings_3\n",
    "- ratings_4\n",
    "- ratings_5\n",
    "- image_url\n",
    "- small_image_url"
   ]
  },
  {
   "cell_type": "markdown",
   "metadata": {},
   "source": [
    "## Загрузка и первичный анализ данных"
   ]
  },
  {
   "cell_type": "code",
   "execution_count": 2,
   "metadata": {},
   "outputs": [],
   "source": [
    "import numpy as np\n",
    "import pandas as pd\n",
    "import seaborn as sns\n",
    "import matplotlib.pyplot as plt\n",
    "%matplotlib inline \n",
    "sns.set(style=\"ticks\")"
   ]
  },
  {
   "cell_type": "code",
   "execution_count": 3,
   "metadata": {},
   "outputs": [],
   "source": [
    "# Будем анализировать данные только на обучающей выборке\n",
    "data = pd.read_csv('./books.csv', sep=\",\")"
   ]
  },
  {
   "cell_type": "code",
   "execution_count": 4,
   "metadata": {},
   "outputs": [
    {
     "data": {
      "text/plain": [
       "(1354, 23)"
      ]
     },
     "execution_count": 4,
     "metadata": {},
     "output_type": "execute_result"
    }
   ],
   "source": [
    "# Размер датасета - 1816 строк, 10 колонок\n",
    "data.shape"
   ]
  },
  {
   "cell_type": "code",
   "execution_count": 5,
   "metadata": {},
   "outputs": [
    {
     "data": {
      "text/plain": [
       "book_id                        int64\n",
       "goodreads_book_id              int64\n",
       "best_book_id                   int64\n",
       "work_id                        int64\n",
       "books_count                    int64\n",
       "isbn                          object\n",
       "isbn13                       float64\n",
       "authors                       object\n",
       "original_publication_year    float64\n",
       "original_title                object\n",
       "title                         object\n",
       "language_code                 object\n",
       "average_rating               float64\n",
       "ratings_count                  int64\n",
       "work_ratings_count             int64\n",
       "work_text_reviews_count        int64\n",
       "ratings_1                      int64\n",
       "ratings_2                      int64\n",
       "ratings_3                      int64\n",
       "ratings_4                      int64\n",
       "ratings_5                      int64\n",
       "image_url                     object\n",
       "small_image_url               object\n",
       "dtype: object"
      ]
     },
     "execution_count": 5,
     "metadata": {},
     "output_type": "execute_result"
    }
   ],
   "source": [
    "# Список колонок с типами данных\n",
    "data.dtypes"
   ]
  },
  {
   "cell_type": "code",
   "execution_count": 6,
   "metadata": {},
   "outputs": [
    {
     "data": {
      "text/plain": [
       "book_id                        0\n",
       "goodreads_book_id              0\n",
       "best_book_id                   0\n",
       "work_id                        0\n",
       "books_count                    0\n",
       "isbn                          52\n",
       "isbn13                        44\n",
       "authors                        0\n",
       "original_publication_year      3\n",
       "original_title                52\n",
       "title                          0\n",
       "language_code                109\n",
       "average_rating                 0\n",
       "ratings_count                  0\n",
       "work_ratings_count             0\n",
       "work_text_reviews_count        0\n",
       "ratings_1                      0\n",
       "ratings_2                      0\n",
       "ratings_3                      0\n",
       "ratings_4                      0\n",
       "ratings_5                      0\n",
       "image_url                      0\n",
       "small_image_url                0\n",
       "dtype: int64"
      ]
     },
     "execution_count": 6,
     "metadata": {},
     "output_type": "execute_result"
    }
   ],
   "source": [
    "# проверим есть ли пропущенные значения\n",
    "data.isnull().sum()"
   ]
  },
  {
   "cell_type": "code",
   "execution_count": 7,
   "metadata": {},
   "outputs": [
    {
     "data": {
      "text/html": [
       "<div>\n",
       "<style scoped>\n",
       "    .dataframe tbody tr th:only-of-type {\n",
       "        vertical-align: middle;\n",
       "    }\n",
       "\n",
       "    .dataframe tbody tr th {\n",
       "        vertical-align: top;\n",
       "    }\n",
       "\n",
       "    .dataframe thead th {\n",
       "        text-align: right;\n",
       "    }\n",
       "</style>\n",
       "<table border=\"1\" class=\"dataframe\">\n",
       "  <thead>\n",
       "    <tr style=\"text-align: right;\">\n",
       "      <th></th>\n",
       "      <th>book_id</th>\n",
       "      <th>goodreads_book_id</th>\n",
       "      <th>best_book_id</th>\n",
       "      <th>work_id</th>\n",
       "      <th>books_count</th>\n",
       "      <th>isbn</th>\n",
       "      <th>isbn13</th>\n",
       "      <th>authors</th>\n",
       "      <th>original_publication_year</th>\n",
       "      <th>original_title</th>\n",
       "      <th>...</th>\n",
       "      <th>ratings_count</th>\n",
       "      <th>work_ratings_count</th>\n",
       "      <th>work_text_reviews_count</th>\n",
       "      <th>ratings_1</th>\n",
       "      <th>ratings_2</th>\n",
       "      <th>ratings_3</th>\n",
       "      <th>ratings_4</th>\n",
       "      <th>ratings_5</th>\n",
       "      <th>image_url</th>\n",
       "      <th>small_image_url</th>\n",
       "    </tr>\n",
       "  </thead>\n",
       "  <tbody>\n",
       "    <tr>\n",
       "      <th>0</th>\n",
       "      <td>1</td>\n",
       "      <td>2767052</td>\n",
       "      <td>2767052</td>\n",
       "      <td>2792775</td>\n",
       "      <td>272</td>\n",
       "      <td>439023483</td>\n",
       "      <td>9.780439e+12</td>\n",
       "      <td>Suzanne Collins</td>\n",
       "      <td>2008.0</td>\n",
       "      <td>The Hunger Games</td>\n",
       "      <td>...</td>\n",
       "      <td>4780653</td>\n",
       "      <td>4942365</td>\n",
       "      <td>155254</td>\n",
       "      <td>66715</td>\n",
       "      <td>127936</td>\n",
       "      <td>560092</td>\n",
       "      <td>1481305</td>\n",
       "      <td>2706317</td>\n",
       "      <td>https://images.gr-assets.com/books/1447303603m...</td>\n",
       "      <td>https://images.gr-assets.com/books/1447303603s...</td>\n",
       "    </tr>\n",
       "    <tr>\n",
       "      <th>1</th>\n",
       "      <td>2</td>\n",
       "      <td>3</td>\n",
       "      <td>3</td>\n",
       "      <td>4640799</td>\n",
       "      <td>491</td>\n",
       "      <td>439554934</td>\n",
       "      <td>9.780440e+12</td>\n",
       "      <td>J.K. Rowling, Mary GrandPré</td>\n",
       "      <td>1997.0</td>\n",
       "      <td>Harry Potter and the Philosopher's Stone</td>\n",
       "      <td>...</td>\n",
       "      <td>4602479</td>\n",
       "      <td>4800065</td>\n",
       "      <td>75867</td>\n",
       "      <td>75504</td>\n",
       "      <td>101676</td>\n",
       "      <td>455024</td>\n",
       "      <td>1156318</td>\n",
       "      <td>3011543</td>\n",
       "      <td>https://images.gr-assets.com/books/1474154022m...</td>\n",
       "      <td>https://images.gr-assets.com/books/1474154022s...</td>\n",
       "    </tr>\n",
       "    <tr>\n",
       "      <th>2</th>\n",
       "      <td>3</td>\n",
       "      <td>41865</td>\n",
       "      <td>41865</td>\n",
       "      <td>3212258</td>\n",
       "      <td>226</td>\n",
       "      <td>316015849</td>\n",
       "      <td>9.780316e+12</td>\n",
       "      <td>Stephenie Meyer</td>\n",
       "      <td>2005.0</td>\n",
       "      <td>Twilight</td>\n",
       "      <td>...</td>\n",
       "      <td>3866839</td>\n",
       "      <td>3916824</td>\n",
       "      <td>95009</td>\n",
       "      <td>456191</td>\n",
       "      <td>436802</td>\n",
       "      <td>793319</td>\n",
       "      <td>875073</td>\n",
       "      <td>1355439</td>\n",
       "      <td>https://images.gr-assets.com/books/1361039443m...</td>\n",
       "      <td>https://images.gr-assets.com/books/1361039443s...</td>\n",
       "    </tr>\n",
       "    <tr>\n",
       "      <th>3</th>\n",
       "      <td>6</td>\n",
       "      <td>11870085</td>\n",
       "      <td>11870085</td>\n",
       "      <td>16827462</td>\n",
       "      <td>226</td>\n",
       "      <td>525478817</td>\n",
       "      <td>9.780525e+12</td>\n",
       "      <td>John Green</td>\n",
       "      <td>2012.0</td>\n",
       "      <td>The Fault in Our Stars</td>\n",
       "      <td>...</td>\n",
       "      <td>2346404</td>\n",
       "      <td>2478609</td>\n",
       "      <td>140739</td>\n",
       "      <td>47994</td>\n",
       "      <td>92723</td>\n",
       "      <td>327550</td>\n",
       "      <td>698471</td>\n",
       "      <td>1311871</td>\n",
       "      <td>https://images.gr-assets.com/books/1360206420m...</td>\n",
       "      <td>https://images.gr-assets.com/books/1360206420s...</td>\n",
       "    </tr>\n",
       "    <tr>\n",
       "      <th>4</th>\n",
       "      <td>12</td>\n",
       "      <td>13335037</td>\n",
       "      <td>13335037</td>\n",
       "      <td>13155899</td>\n",
       "      <td>210</td>\n",
       "      <td>62024035</td>\n",
       "      <td>9.780062e+12</td>\n",
       "      <td>Veronica Roth</td>\n",
       "      <td>2011.0</td>\n",
       "      <td>Divergent</td>\n",
       "      <td>...</td>\n",
       "      <td>1903563</td>\n",
       "      <td>2216814</td>\n",
       "      <td>101023</td>\n",
       "      <td>36315</td>\n",
       "      <td>82870</td>\n",
       "      <td>310297</td>\n",
       "      <td>673028</td>\n",
       "      <td>1114304</td>\n",
       "      <td>https://images.gr-assets.com/books/1328559506m...</td>\n",
       "      <td>https://images.gr-assets.com/books/1328559506s...</td>\n",
       "    </tr>\n",
       "  </tbody>\n",
       "</table>\n",
       "<p>5 rows × 23 columns</p>\n",
       "</div>"
      ],
      "text/plain": [
       "   book_id  goodreads_book_id  best_book_id   work_id  books_count       isbn  \\\n",
       "0        1            2767052       2767052   2792775          272  439023483   \n",
       "1        2                  3             3   4640799          491  439554934   \n",
       "2        3              41865         41865   3212258          226  316015849   \n",
       "3        6           11870085      11870085  16827462          226  525478817   \n",
       "4       12           13335037      13335037  13155899          210   62024035   \n",
       "\n",
       "         isbn13                      authors  original_publication_year  \\\n",
       "0  9.780439e+12              Suzanne Collins                     2008.0   \n",
       "1  9.780440e+12  J.K. Rowling, Mary GrandPré                     1997.0   \n",
       "2  9.780316e+12              Stephenie Meyer                     2005.0   \n",
       "3  9.780525e+12                   John Green                     2012.0   \n",
       "4  9.780062e+12                Veronica Roth                     2011.0   \n",
       "\n",
       "                             original_title  ... ratings_count  \\\n",
       "0                          The Hunger Games  ...       4780653   \n",
       "1  Harry Potter and the Philosopher's Stone  ...       4602479   \n",
       "2                                  Twilight  ...       3866839   \n",
       "3                    The Fault in Our Stars  ...       2346404   \n",
       "4                                 Divergent  ...       1903563   \n",
       "\n",
       "  work_ratings_count  work_text_reviews_count  ratings_1  ratings_2  \\\n",
       "0            4942365                   155254      66715     127936   \n",
       "1            4800065                    75867      75504     101676   \n",
       "2            3916824                    95009     456191     436802   \n",
       "3            2478609                   140739      47994      92723   \n",
       "4            2216814                   101023      36315      82870   \n",
       "\n",
       "   ratings_3  ratings_4  ratings_5  \\\n",
       "0     560092    1481305    2706317   \n",
       "1     455024    1156318    3011543   \n",
       "2     793319     875073    1355439   \n",
       "3     327550     698471    1311871   \n",
       "4     310297     673028    1114304   \n",
       "\n",
       "                                           image_url  \\\n",
       "0  https://images.gr-assets.com/books/1447303603m...   \n",
       "1  https://images.gr-assets.com/books/1474154022m...   \n",
       "2  https://images.gr-assets.com/books/1361039443m...   \n",
       "3  https://images.gr-assets.com/books/1360206420m...   \n",
       "4  https://images.gr-assets.com/books/1328559506m...   \n",
       "\n",
       "                                     small_image_url  \n",
       "0  https://images.gr-assets.com/books/1447303603s...  \n",
       "1  https://images.gr-assets.com/books/1474154022s...  \n",
       "2  https://images.gr-assets.com/books/1361039443s...  \n",
       "3  https://images.gr-assets.com/books/1360206420s...  \n",
       "4  https://images.gr-assets.com/books/1328559506s...  \n",
       "\n",
       "[5 rows x 23 columns]"
      ]
     },
     "execution_count": 7,
     "metadata": {},
     "output_type": "execute_result"
    }
   ],
   "source": [
    "# Первые 5 строк датасета\n",
    "data.head()"
   ]
  },
  {
   "cell_type": "code",
   "execution_count": 9,
   "metadata": {},
   "outputs": [
    {
     "name": "stdout",
     "output_type": "stream",
     "text": [
      "Всего строк: 1354\n"
     ]
    }
   ],
   "source": [
    "total_count = data.shape[0]\n",
    "print('Всего строк: {}'.format(total_count))"
   ]
  },
  {
   "cell_type": "markdown",
   "metadata": {},
   "source": [
    "## Обработка пропусков в данных"
   ]
  },
  {
   "cell_type": "markdown",
   "metadata": {},
   "source": [
    "### Простые стратегии - удаление или заполнение нулями"
   ]
  },
  {
   "cell_type": "code",
   "execution_count": 11,
   "metadata": {},
   "outputs": [
    {
     "data": {
      "text/plain": [
       "((1354, 23), (1354, 18))"
      ]
     },
     "execution_count": 11,
     "metadata": {},
     "output_type": "execute_result"
    }
   ],
   "source": [
    "# Удаление колонок, содержащих пустые значения\n",
    "data_new_1 = data.dropna(axis=1, how='any')\n",
    "(data.shape, data_new_1.shape)"
   ]
  },
  {
   "cell_type": "code",
   "execution_count": 10,
   "metadata": {},
   "outputs": [
    {
     "data": {
      "text/plain": [
       "((1354, 23), (1153, 23))"
      ]
     },
     "execution_count": 10,
     "metadata": {},
     "output_type": "execute_result"
    }
   ],
   "source": [
    "# Удаление строк, содержащих пустые значения\n",
    "data_new_2 = data.dropna(axis=0, how='any')\n",
    "(data.shape, data_new_2.shape)"
   ]
  },
  {
   "cell_type": "code",
   "execution_count": 12,
   "metadata": {},
   "outputs": [
    {
     "data": {
      "text/html": [
       "<div>\n",
       "<style scoped>\n",
       "    .dataframe tbody tr th:only-of-type {\n",
       "        vertical-align: middle;\n",
       "    }\n",
       "\n",
       "    .dataframe tbody tr th {\n",
       "        vertical-align: top;\n",
       "    }\n",
       "\n",
       "    .dataframe thead th {\n",
       "        text-align: right;\n",
       "    }\n",
       "</style>\n",
       "<table border=\"1\" class=\"dataframe\">\n",
       "  <thead>\n",
       "    <tr style=\"text-align: right;\">\n",
       "      <th></th>\n",
       "      <th>book_id</th>\n",
       "      <th>goodreads_book_id</th>\n",
       "      <th>best_book_id</th>\n",
       "      <th>work_id</th>\n",
       "      <th>books_count</th>\n",
       "      <th>isbn</th>\n",
       "      <th>isbn13</th>\n",
       "      <th>authors</th>\n",
       "      <th>original_publication_year</th>\n",
       "      <th>original_title</th>\n",
       "      <th>...</th>\n",
       "      <th>ratings_count</th>\n",
       "      <th>work_ratings_count</th>\n",
       "      <th>work_text_reviews_count</th>\n",
       "      <th>ratings_1</th>\n",
       "      <th>ratings_2</th>\n",
       "      <th>ratings_3</th>\n",
       "      <th>ratings_4</th>\n",
       "      <th>ratings_5</th>\n",
       "      <th>image_url</th>\n",
       "      <th>small_image_url</th>\n",
       "    </tr>\n",
       "  </thead>\n",
       "  <tbody>\n",
       "    <tr>\n",
       "      <th>0</th>\n",
       "      <td>1</td>\n",
       "      <td>2767052</td>\n",
       "      <td>2767052</td>\n",
       "      <td>2792775</td>\n",
       "      <td>272</td>\n",
       "      <td>439023483</td>\n",
       "      <td>9.780439e+12</td>\n",
       "      <td>Suzanne Collins</td>\n",
       "      <td>2008.0</td>\n",
       "      <td>The Hunger Games</td>\n",
       "      <td>...</td>\n",
       "      <td>4780653</td>\n",
       "      <td>4942365</td>\n",
       "      <td>155254</td>\n",
       "      <td>66715</td>\n",
       "      <td>127936</td>\n",
       "      <td>560092</td>\n",
       "      <td>1481305</td>\n",
       "      <td>2706317</td>\n",
       "      <td>https://images.gr-assets.com/books/1447303603m...</td>\n",
       "      <td>https://images.gr-assets.com/books/1447303603s...</td>\n",
       "    </tr>\n",
       "    <tr>\n",
       "      <th>1</th>\n",
       "      <td>2</td>\n",
       "      <td>3</td>\n",
       "      <td>3</td>\n",
       "      <td>4640799</td>\n",
       "      <td>491</td>\n",
       "      <td>439554934</td>\n",
       "      <td>9.780440e+12</td>\n",
       "      <td>J.K. Rowling, Mary GrandPré</td>\n",
       "      <td>1997.0</td>\n",
       "      <td>Harry Potter and the Philosopher's Stone</td>\n",
       "      <td>...</td>\n",
       "      <td>4602479</td>\n",
       "      <td>4800065</td>\n",
       "      <td>75867</td>\n",
       "      <td>75504</td>\n",
       "      <td>101676</td>\n",
       "      <td>455024</td>\n",
       "      <td>1156318</td>\n",
       "      <td>3011543</td>\n",
       "      <td>https://images.gr-assets.com/books/1474154022m...</td>\n",
       "      <td>https://images.gr-assets.com/books/1474154022s...</td>\n",
       "    </tr>\n",
       "    <tr>\n",
       "      <th>2</th>\n",
       "      <td>3</td>\n",
       "      <td>41865</td>\n",
       "      <td>41865</td>\n",
       "      <td>3212258</td>\n",
       "      <td>226</td>\n",
       "      <td>316015849</td>\n",
       "      <td>9.780316e+12</td>\n",
       "      <td>Stephenie Meyer</td>\n",
       "      <td>2005.0</td>\n",
       "      <td>Twilight</td>\n",
       "      <td>...</td>\n",
       "      <td>3866839</td>\n",
       "      <td>3916824</td>\n",
       "      <td>95009</td>\n",
       "      <td>456191</td>\n",
       "      <td>436802</td>\n",
       "      <td>793319</td>\n",
       "      <td>875073</td>\n",
       "      <td>1355439</td>\n",
       "      <td>https://images.gr-assets.com/books/1361039443m...</td>\n",
       "      <td>https://images.gr-assets.com/books/1361039443s...</td>\n",
       "    </tr>\n",
       "    <tr>\n",
       "      <th>3</th>\n",
       "      <td>6</td>\n",
       "      <td>11870085</td>\n",
       "      <td>11870085</td>\n",
       "      <td>16827462</td>\n",
       "      <td>226</td>\n",
       "      <td>525478817</td>\n",
       "      <td>9.780525e+12</td>\n",
       "      <td>John Green</td>\n",
       "      <td>2012.0</td>\n",
       "      <td>The Fault in Our Stars</td>\n",
       "      <td>...</td>\n",
       "      <td>2346404</td>\n",
       "      <td>2478609</td>\n",
       "      <td>140739</td>\n",
       "      <td>47994</td>\n",
       "      <td>92723</td>\n",
       "      <td>327550</td>\n",
       "      <td>698471</td>\n",
       "      <td>1311871</td>\n",
       "      <td>https://images.gr-assets.com/books/1360206420m...</td>\n",
       "      <td>https://images.gr-assets.com/books/1360206420s...</td>\n",
       "    </tr>\n",
       "    <tr>\n",
       "      <th>4</th>\n",
       "      <td>12</td>\n",
       "      <td>13335037</td>\n",
       "      <td>13335037</td>\n",
       "      <td>13155899</td>\n",
       "      <td>210</td>\n",
       "      <td>62024035</td>\n",
       "      <td>9.780062e+12</td>\n",
       "      <td>Veronica Roth</td>\n",
       "      <td>2011.0</td>\n",
       "      <td>Divergent</td>\n",
       "      <td>...</td>\n",
       "      <td>1903563</td>\n",
       "      <td>2216814</td>\n",
       "      <td>101023</td>\n",
       "      <td>36315</td>\n",
       "      <td>82870</td>\n",
       "      <td>310297</td>\n",
       "      <td>673028</td>\n",
       "      <td>1114304</td>\n",
       "      <td>https://images.gr-assets.com/books/1328559506m...</td>\n",
       "      <td>https://images.gr-assets.com/books/1328559506s...</td>\n",
       "    </tr>\n",
       "  </tbody>\n",
       "</table>\n",
       "<p>5 rows × 23 columns</p>\n",
       "</div>"
      ],
      "text/plain": [
       "   book_id  goodreads_book_id  best_book_id   work_id  books_count       isbn  \\\n",
       "0        1            2767052       2767052   2792775          272  439023483   \n",
       "1        2                  3             3   4640799          491  439554934   \n",
       "2        3              41865         41865   3212258          226  316015849   \n",
       "3        6           11870085      11870085  16827462          226  525478817   \n",
       "4       12           13335037      13335037  13155899          210   62024035   \n",
       "\n",
       "         isbn13                      authors  original_publication_year  \\\n",
       "0  9.780439e+12              Suzanne Collins                     2008.0   \n",
       "1  9.780440e+12  J.K. Rowling, Mary GrandPré                     1997.0   \n",
       "2  9.780316e+12              Stephenie Meyer                     2005.0   \n",
       "3  9.780525e+12                   John Green                     2012.0   \n",
       "4  9.780062e+12                Veronica Roth                     2011.0   \n",
       "\n",
       "                             original_title  ... ratings_count  \\\n",
       "0                          The Hunger Games  ...       4780653   \n",
       "1  Harry Potter and the Philosopher's Stone  ...       4602479   \n",
       "2                                  Twilight  ...       3866839   \n",
       "3                    The Fault in Our Stars  ...       2346404   \n",
       "4                                 Divergent  ...       1903563   \n",
       "\n",
       "  work_ratings_count  work_text_reviews_count  ratings_1  ratings_2  \\\n",
       "0            4942365                   155254      66715     127936   \n",
       "1            4800065                    75867      75504     101676   \n",
       "2            3916824                    95009     456191     436802   \n",
       "3            2478609                   140739      47994      92723   \n",
       "4            2216814                   101023      36315      82870   \n",
       "\n",
       "   ratings_3  ratings_4  ratings_5  \\\n",
       "0     560092    1481305    2706317   \n",
       "1     455024    1156318    3011543   \n",
       "2     793319     875073    1355439   \n",
       "3     327550     698471    1311871   \n",
       "4     310297     673028    1114304   \n",
       "\n",
       "                                           image_url  \\\n",
       "0  https://images.gr-assets.com/books/1447303603m...   \n",
       "1  https://images.gr-assets.com/books/1474154022m...   \n",
       "2  https://images.gr-assets.com/books/1361039443m...   \n",
       "3  https://images.gr-assets.com/books/1360206420m...   \n",
       "4  https://images.gr-assets.com/books/1328559506m...   \n",
       "\n",
       "                                     small_image_url  \n",
       "0  https://images.gr-assets.com/books/1447303603s...  \n",
       "1  https://images.gr-assets.com/books/1474154022s...  \n",
       "2  https://images.gr-assets.com/books/1361039443s...  \n",
       "3  https://images.gr-assets.com/books/1360206420s...  \n",
       "4  https://images.gr-assets.com/books/1328559506s...  \n",
       "\n",
       "[5 rows x 23 columns]"
      ]
     },
     "execution_count": 12,
     "metadata": {},
     "output_type": "execute_result"
    }
   ],
   "source": [
    "data.head()"
   ]
  },
  {
   "cell_type": "code",
   "execution_count": 13,
   "metadata": {},
   "outputs": [
    {
     "data": {
      "text/html": [
       "<div>\n",
       "<style scoped>\n",
       "    .dataframe tbody tr th:only-of-type {\n",
       "        vertical-align: middle;\n",
       "    }\n",
       "\n",
       "    .dataframe tbody tr th {\n",
       "        vertical-align: top;\n",
       "    }\n",
       "\n",
       "    .dataframe thead th {\n",
       "        text-align: right;\n",
       "    }\n",
       "</style>\n",
       "<table border=\"1\" class=\"dataframe\">\n",
       "  <thead>\n",
       "    <tr style=\"text-align: right;\">\n",
       "      <th></th>\n",
       "      <th>book_id</th>\n",
       "      <th>goodreads_book_id</th>\n",
       "      <th>best_book_id</th>\n",
       "      <th>work_id</th>\n",
       "      <th>books_count</th>\n",
       "      <th>isbn</th>\n",
       "      <th>isbn13</th>\n",
       "      <th>authors</th>\n",
       "      <th>original_publication_year</th>\n",
       "      <th>original_title</th>\n",
       "      <th>...</th>\n",
       "      <th>ratings_count</th>\n",
       "      <th>work_ratings_count</th>\n",
       "      <th>work_text_reviews_count</th>\n",
       "      <th>ratings_1</th>\n",
       "      <th>ratings_2</th>\n",
       "      <th>ratings_3</th>\n",
       "      <th>ratings_4</th>\n",
       "      <th>ratings_5</th>\n",
       "      <th>image_url</th>\n",
       "      <th>small_image_url</th>\n",
       "    </tr>\n",
       "  </thead>\n",
       "  <tbody>\n",
       "    <tr>\n",
       "      <th>0</th>\n",
       "      <td>1</td>\n",
       "      <td>2767052</td>\n",
       "      <td>2767052</td>\n",
       "      <td>2792775</td>\n",
       "      <td>272</td>\n",
       "      <td>439023483</td>\n",
       "      <td>9.780439e+12</td>\n",
       "      <td>Suzanne Collins</td>\n",
       "      <td>2008.0</td>\n",
       "      <td>The Hunger Games</td>\n",
       "      <td>...</td>\n",
       "      <td>4780653</td>\n",
       "      <td>4942365</td>\n",
       "      <td>155254</td>\n",
       "      <td>66715</td>\n",
       "      <td>127936</td>\n",
       "      <td>560092</td>\n",
       "      <td>1481305</td>\n",
       "      <td>2706317</td>\n",
       "      <td>https://images.gr-assets.com/books/1447303603m...</td>\n",
       "      <td>https://images.gr-assets.com/books/1447303603s...</td>\n",
       "    </tr>\n",
       "    <tr>\n",
       "      <th>1</th>\n",
       "      <td>2</td>\n",
       "      <td>3</td>\n",
       "      <td>3</td>\n",
       "      <td>4640799</td>\n",
       "      <td>491</td>\n",
       "      <td>439554934</td>\n",
       "      <td>9.780440e+12</td>\n",
       "      <td>J.K. Rowling, Mary GrandPré</td>\n",
       "      <td>1997.0</td>\n",
       "      <td>Harry Potter and the Philosopher's Stone</td>\n",
       "      <td>...</td>\n",
       "      <td>4602479</td>\n",
       "      <td>4800065</td>\n",
       "      <td>75867</td>\n",
       "      <td>75504</td>\n",
       "      <td>101676</td>\n",
       "      <td>455024</td>\n",
       "      <td>1156318</td>\n",
       "      <td>3011543</td>\n",
       "      <td>https://images.gr-assets.com/books/1474154022m...</td>\n",
       "      <td>https://images.gr-assets.com/books/1474154022s...</td>\n",
       "    </tr>\n",
       "    <tr>\n",
       "      <th>2</th>\n",
       "      <td>3</td>\n",
       "      <td>41865</td>\n",
       "      <td>41865</td>\n",
       "      <td>3212258</td>\n",
       "      <td>226</td>\n",
       "      <td>316015849</td>\n",
       "      <td>9.780316e+12</td>\n",
       "      <td>Stephenie Meyer</td>\n",
       "      <td>2005.0</td>\n",
       "      <td>Twilight</td>\n",
       "      <td>...</td>\n",
       "      <td>3866839</td>\n",
       "      <td>3916824</td>\n",
       "      <td>95009</td>\n",
       "      <td>456191</td>\n",
       "      <td>436802</td>\n",
       "      <td>793319</td>\n",
       "      <td>875073</td>\n",
       "      <td>1355439</td>\n",
       "      <td>https://images.gr-assets.com/books/1361039443m...</td>\n",
       "      <td>https://images.gr-assets.com/books/1361039443s...</td>\n",
       "    </tr>\n",
       "    <tr>\n",
       "      <th>3</th>\n",
       "      <td>6</td>\n",
       "      <td>11870085</td>\n",
       "      <td>11870085</td>\n",
       "      <td>16827462</td>\n",
       "      <td>226</td>\n",
       "      <td>525478817</td>\n",
       "      <td>9.780525e+12</td>\n",
       "      <td>John Green</td>\n",
       "      <td>2012.0</td>\n",
       "      <td>The Fault in Our Stars</td>\n",
       "      <td>...</td>\n",
       "      <td>2346404</td>\n",
       "      <td>2478609</td>\n",
       "      <td>140739</td>\n",
       "      <td>47994</td>\n",
       "      <td>92723</td>\n",
       "      <td>327550</td>\n",
       "      <td>698471</td>\n",
       "      <td>1311871</td>\n",
       "      <td>https://images.gr-assets.com/books/1360206420m...</td>\n",
       "      <td>https://images.gr-assets.com/books/1360206420s...</td>\n",
       "    </tr>\n",
       "    <tr>\n",
       "      <th>4</th>\n",
       "      <td>12</td>\n",
       "      <td>13335037</td>\n",
       "      <td>13335037</td>\n",
       "      <td>13155899</td>\n",
       "      <td>210</td>\n",
       "      <td>62024035</td>\n",
       "      <td>9.780062e+12</td>\n",
       "      <td>Veronica Roth</td>\n",
       "      <td>2011.0</td>\n",
       "      <td>Divergent</td>\n",
       "      <td>...</td>\n",
       "      <td>1903563</td>\n",
       "      <td>2216814</td>\n",
       "      <td>101023</td>\n",
       "      <td>36315</td>\n",
       "      <td>82870</td>\n",
       "      <td>310297</td>\n",
       "      <td>673028</td>\n",
       "      <td>1114304</td>\n",
       "      <td>https://images.gr-assets.com/books/1328559506m...</td>\n",
       "      <td>https://images.gr-assets.com/books/1328559506s...</td>\n",
       "    </tr>\n",
       "  </tbody>\n",
       "</table>\n",
       "<p>5 rows × 23 columns</p>\n",
       "</div>"
      ],
      "text/plain": [
       "   book_id  goodreads_book_id  best_book_id   work_id  books_count       isbn  \\\n",
       "0        1            2767052       2767052   2792775          272  439023483   \n",
       "1        2                  3             3   4640799          491  439554934   \n",
       "2        3              41865         41865   3212258          226  316015849   \n",
       "3        6           11870085      11870085  16827462          226  525478817   \n",
       "4       12           13335037      13335037  13155899          210   62024035   \n",
       "\n",
       "         isbn13                      authors  original_publication_year  \\\n",
       "0  9.780439e+12              Suzanne Collins                     2008.0   \n",
       "1  9.780440e+12  J.K. Rowling, Mary GrandPré                     1997.0   \n",
       "2  9.780316e+12              Stephenie Meyer                     2005.0   \n",
       "3  9.780525e+12                   John Green                     2012.0   \n",
       "4  9.780062e+12                Veronica Roth                     2011.0   \n",
       "\n",
       "                             original_title  ... ratings_count  \\\n",
       "0                          The Hunger Games  ...       4780653   \n",
       "1  Harry Potter and the Philosopher's Stone  ...       4602479   \n",
       "2                                  Twilight  ...       3866839   \n",
       "3                    The Fault in Our Stars  ...       2346404   \n",
       "4                                 Divergent  ...       1903563   \n",
       "\n",
       "  work_ratings_count  work_text_reviews_count  ratings_1  ratings_2  \\\n",
       "0            4942365                   155254      66715     127936   \n",
       "1            4800065                    75867      75504     101676   \n",
       "2            3916824                    95009     456191     436802   \n",
       "3            2478609                   140739      47994      92723   \n",
       "4            2216814                   101023      36315      82870   \n",
       "\n",
       "   ratings_3  ratings_4  ratings_5  \\\n",
       "0     560092    1481305    2706317   \n",
       "1     455024    1156318    3011543   \n",
       "2     793319     875073    1355439   \n",
       "3     327550     698471    1311871   \n",
       "4     310297     673028    1114304   \n",
       "\n",
       "                                           image_url  \\\n",
       "0  https://images.gr-assets.com/books/1447303603m...   \n",
       "1  https://images.gr-assets.com/books/1474154022m...   \n",
       "2  https://images.gr-assets.com/books/1361039443m...   \n",
       "3  https://images.gr-assets.com/books/1360206420m...   \n",
       "4  https://images.gr-assets.com/books/1328559506m...   \n",
       "\n",
       "                                     small_image_url  \n",
       "0  https://images.gr-assets.com/books/1447303603s...  \n",
       "1  https://images.gr-assets.com/books/1474154022s...  \n",
       "2  https://images.gr-assets.com/books/1361039443s...  \n",
       "3  https://images.gr-assets.com/books/1360206420s...  \n",
       "4  https://images.gr-assets.com/books/1328559506s...  \n",
       "\n",
       "[5 rows x 23 columns]"
      ]
     },
     "execution_count": 13,
     "metadata": {},
     "output_type": "execute_result"
    }
   ],
   "source": [
    "# Заполнение всех пропущенных значений нулями\n",
    "# В данном случае это некорректно, так как нулями заполняются в том числе категориальные колонки\n",
    "data_new_3 = data.fillna(0)\n",
    "data_new_3.head()"
   ]
  },
  {
   "cell_type": "markdown",
   "metadata": {},
   "source": [
    "### \"Внедрение значений\" - импьютация (imputation)"
   ]
  },
  {
   "cell_type": "markdown",
   "metadata": {},
   "source": [
    "#### Обработка пропусков в числовых данных"
   ]
  },
  {
   "cell_type": "code",
   "execution_count": 14,
   "metadata": {},
   "outputs": [
    {
     "name": "stdout",
     "output_type": "stream",
     "text": [
      "Колонка isbn13. Тип данных float64. Количество пустых значений 44, 3.25%.\n",
      "Колонка original_publication_year. Тип данных float64. Количество пустых значений 3, 0.22%.\n"
     ]
    }
   ],
   "source": [
    "# Выберем числовые колонки с пропущенными значениями\n",
    "# Цикл по колонкам датасета\n",
    "num_cols = []\n",
    "for col in data.columns:\n",
    "    # Количество пустых значений \n",
    "    temp_null_count = data[data[col].isnull()].shape[0]\n",
    "    dt = str(data[col].dtype)\n",
    "    if temp_null_count>0 and (dt=='float64' or dt=='int64'):\n",
    "        num_cols.append(col)\n",
    "        temp_perc = round((temp_null_count / total_count) * 100.0, 2)\n",
    "        print('Колонка {}. Тип данных {}. Количество пустых значений {}, {}%.'.format(col, dt, temp_null_count, temp_perc))"
   ]
  },
  {
   "cell_type": "code",
   "execution_count": 15,
   "metadata": {},
   "outputs": [
    {
     "data": {
      "text/html": [
       "<div>\n",
       "<style scoped>\n",
       "    .dataframe tbody tr th:only-of-type {\n",
       "        vertical-align: middle;\n",
       "    }\n",
       "\n",
       "    .dataframe tbody tr th {\n",
       "        vertical-align: top;\n",
       "    }\n",
       "\n",
       "    .dataframe thead th {\n",
       "        text-align: right;\n",
       "    }\n",
       "</style>\n",
       "<table border=\"1\" class=\"dataframe\">\n",
       "  <thead>\n",
       "    <tr style=\"text-align: right;\">\n",
       "      <th></th>\n",
       "      <th>isbn13</th>\n",
       "      <th>original_publication_year</th>\n",
       "    </tr>\n",
       "  </thead>\n",
       "  <tbody>\n",
       "    <tr>\n",
       "      <th>0</th>\n",
       "      <td>9.780439e+12</td>\n",
       "      <td>2008.0</td>\n",
       "    </tr>\n",
       "    <tr>\n",
       "      <th>1</th>\n",
       "      <td>9.780440e+12</td>\n",
       "      <td>1997.0</td>\n",
       "    </tr>\n",
       "    <tr>\n",
       "      <th>2</th>\n",
       "      <td>9.780316e+12</td>\n",
       "      <td>2005.0</td>\n",
       "    </tr>\n",
       "    <tr>\n",
       "      <th>3</th>\n",
       "      <td>9.780525e+12</td>\n",
       "      <td>2012.0</td>\n",
       "    </tr>\n",
       "    <tr>\n",
       "      <th>4</th>\n",
       "      <td>9.780062e+12</td>\n",
       "      <td>2011.0</td>\n",
       "    </tr>\n",
       "    <tr>\n",
       "      <th>...</th>\n",
       "      <td>...</td>\n",
       "      <td>...</td>\n",
       "    </tr>\n",
       "    <tr>\n",
       "      <th>1349</th>\n",
       "      <td>9.781582e+12</td>\n",
       "      <td>2002.0</td>\n",
       "    </tr>\n",
       "    <tr>\n",
       "      <th>1350</th>\n",
       "      <td>9.781596e+12</td>\n",
       "      <td>2012.0</td>\n",
       "    </tr>\n",
       "    <tr>\n",
       "      <th>1351</th>\n",
       "      <td>9.781442e+12</td>\n",
       "      <td>2013.0</td>\n",
       "    </tr>\n",
       "    <tr>\n",
       "      <th>1352</th>\n",
       "      <td>9.780062e+12</td>\n",
       "      <td>2015.0</td>\n",
       "    </tr>\n",
       "    <tr>\n",
       "      <th>1353</th>\n",
       "      <td>9.780803e+12</td>\n",
       "      <td>2013.0</td>\n",
       "    </tr>\n",
       "  </tbody>\n",
       "</table>\n",
       "<p>1354 rows × 2 columns</p>\n",
       "</div>"
      ],
      "text/plain": [
       "            isbn13  original_publication_year\n",
       "0     9.780439e+12                     2008.0\n",
       "1     9.780440e+12                     1997.0\n",
       "2     9.780316e+12                     2005.0\n",
       "3     9.780525e+12                     2012.0\n",
       "4     9.780062e+12                     2011.0\n",
       "...            ...                        ...\n",
       "1349  9.781582e+12                     2002.0\n",
       "1350  9.781596e+12                     2012.0\n",
       "1351  9.781442e+12                     2013.0\n",
       "1352  9.780062e+12                     2015.0\n",
       "1353  9.780803e+12                     2013.0\n",
       "\n",
       "[1354 rows x 2 columns]"
      ]
     },
     "execution_count": 15,
     "metadata": {},
     "output_type": "execute_result"
    }
   ],
   "source": [
    "# Фильтр по колонкам с пропущенными значениями\n",
    "data_num = data[num_cols]\n",
    "data_num"
   ]
  },
  {
   "cell_type": "code",
   "execution_count": 16,
   "metadata": {},
   "outputs": [
    {
     "data": {
      "image/png": "[encoded data removed]",
      "text/plain": [
       "<Figure size 640x480 with 1 Axes>"
      ]
     },
     "metadata": {},
     "output_type": "display_data"
    },
    {
     "data": {
      "image/png": "[encoded data removed]",
      "text/plain": [
       "<Figure size 640x480 with 1 Axes>"
      ]
     },
     "metadata": {},
     "output_type": "display_data"
    }
   ],
   "source": [
    "# Гистограмма по признакам\n",
    "for col in data_num:\n",
    "    plt.hist(data[col], 50)\n",
    "    plt.xlabel(col)\n",
    "    plt.show()"
   ]
  },
  {
   "cell_type": "code",
   "execution_count": 40,
   "metadata": {},
   "outputs": [
    {
     "data": {
      "text/html": [
       "<div>\n",
       "<style scoped>\n",
       "    .dataframe tbody tr th:only-of-type {\n",
       "        vertical-align: middle;\n",
       "    }\n",
       "\n",
       "    .dataframe tbody tr th {\n",
       "        vertical-align: top;\n",
       "    }\n",
       "\n",
       "    .dataframe thead th {\n",
       "        text-align: right;\n",
       "    }\n",
       "</style>\n",
       "<table border=\"1\" class=\"dataframe\">\n",
       "  <thead>\n",
       "    <tr style=\"text-align: right;\">\n",
       "      <th></th>\n",
       "      <th>isbn13</th>\n",
       "    </tr>\n",
       "  </thead>\n",
       "  <tbody>\n",
       "    <tr>\n",
       "      <th>0</th>\n",
       "      <td>9.780439e+12</td>\n",
       "    </tr>\n",
       "    <tr>\n",
       "      <th>1</th>\n",
       "      <td>9.780440e+12</td>\n",
       "    </tr>\n",
       "    <tr>\n",
       "      <th>2</th>\n",
       "      <td>9.780316e+12</td>\n",
       "    </tr>\n",
       "    <tr>\n",
       "      <th>3</th>\n",
       "      <td>9.780525e+12</td>\n",
       "    </tr>\n",
       "    <tr>\n",
       "      <th>4</th>\n",
       "      <td>9.780062e+12</td>\n",
       "    </tr>\n",
       "  </tbody>\n",
       "</table>\n",
       "</div>"
      ],
      "text/plain": [
       "         isbn13\n",
       "0  9.780439e+12\n",
       "1  9.780440e+12\n",
       "2  9.780316e+12\n",
       "3  9.780525e+12\n",
       "4  9.780062e+12"
      ]
     },
     "execution_count": 40,
     "metadata": {},
     "output_type": "execute_result"
    }
   ],
   "source": [
    "data_num_publications = data_num[['isbn13']]\n",
    "data_num_publications.head()"
   ]
  },
  {
   "cell_type": "code",
   "execution_count": 22,
   "metadata": {},
   "outputs": [],
   "source": [
    "from sklearn.impute import SimpleImputer\n",
    "from sklearn.impute import MissingIndicator"
   ]
  },
  {
   "cell_type": "code",
   "execution_count": 23,
   "metadata": {},
   "outputs": [
    {
     "data": {
      "text/plain": [
       "array([[False],\n",
       "       [False],\n",
       "       [False],\n",
       "       ...,\n",
       "       [False],\n",
       "       [False],\n",
       "       [False]])"
      ]
     },
     "execution_count": 23,
     "metadata": {},
     "output_type": "execute_result"
    }
   ],
   "source": [
    "# Фильтр для проверки заполнения пустых значений\n",
    "indicator = MissingIndicator()\n",
    "mask_missing_values_only = indicator.fit_transform(data_num_publications)\n",
    "mask_missing_values_only"
   ]
  },
  {
   "cell_type": "code",
   "execution_count": 32,
   "metadata": {},
   "outputs": [],
   "source": [
    "strategies=['mean', 'median', 'most_frequent']"
   ]
  },
  {
   "cell_type": "code",
   "execution_count": 25,
   "metadata": {},
   "outputs": [],
   "source": [
    "def test_num_impute(strategy_param):\n",
    "    imp_num = SimpleImputer(strategy=strategy_param)\n",
    "    data_num_imp = imp_num.fit_transform(data_num_publications)\n",
    "    return data_num_imp[mask_missing_values_only]"
   ]
  },
  {
   "cell_type": "code",
   "execution_count": 26,
   "metadata": {},
   "outputs": [
    {
     "data": {
      "text/plain": [
       "('mean', array([2003.42264989, 2003.42264989, 2003.42264989]))"
      ]
     },
     "execution_count": 26,
     "metadata": {},
     "output_type": "execute_result"
    }
   ],
   "source": [
    "strategies[0], test_num_impute(strategies[0])"
   ]
  },
  {
   "cell_type": "code",
   "execution_count": 27,
   "metadata": {},
   "outputs": [
    {
     "data": {
      "text/plain": [
       "('most_frequent', array([2011., 2011., 2011.]))"
      ]
     },
     "execution_count": 27,
     "metadata": {},
     "output_type": "execute_result"
    }
   ],
   "source": [
    "strategies[2], test_num_impute(strategies[2])"
   ]
  },
  {
   "cell_type": "code",
   "execution_count": 35,
   "metadata": {},
   "outputs": [],
   "source": [
    "# Более сложная функция, которая позволяет задавать колонку и вид импьютации\n",
    "def test_num_impute_col(dataset, column, strategy_param):\n",
    "    temp_data = dataset[[column]]\n",
    "    \n",
    "    indicator = MissingIndicator()\n",
    "    mask_missing_values_only = indicator.fit_transform(temp_data)\n",
    "    \n",
    "    imp_num = SimpleImputer(strategy=strategy_param)\n",
    "    data_num_imp = imp_num.fit_transform(temp_data)\n",
    "    \n",
    "    filled_data = data_num_imp[mask_missing_values_only]\n",
    "    \n",
    "    return column, strategy_param, filled_data.size, filled_data[0], filled_data[filled_data.size-1]"
   ]
  },
  {
   "cell_type": "code",
   "execution_count": 36,
   "metadata": {},
   "outputs": [
    {
     "data": {
      "text/html": [
       "<div>\n",
       "<style scoped>\n",
       "    .dataframe tbody tr th:only-of-type {\n",
       "        vertical-align: middle;\n",
       "    }\n",
       "\n",
       "    .dataframe tbody tr th {\n",
       "        vertical-align: top;\n",
       "    }\n",
       "\n",
       "    .dataframe thead th {\n",
       "        text-align: right;\n",
       "    }\n",
       "</style>\n",
       "<table border=\"1\" class=\"dataframe\">\n",
       "  <thead>\n",
       "    <tr style=\"text-align: right;\">\n",
       "      <th></th>\n",
       "      <th>isbn13</th>\n",
       "    </tr>\n",
       "  </thead>\n",
       "  <tbody>\n",
       "    <tr>\n",
       "      <th>count</th>\n",
       "      <td>1.310000e+03</td>\n",
       "    </tr>\n",
       "    <tr>\n",
       "      <th>mean</th>\n",
       "      <td>9.766700e+12</td>\n",
       "    </tr>\n",
       "    <tr>\n",
       "      <th>std</th>\n",
       "      <td>3.572069e+11</td>\n",
       "    </tr>\n",
       "    <tr>\n",
       "      <th>min</th>\n",
       "      <td>7.678361e+10</td>\n",
       "    </tr>\n",
       "    <tr>\n",
       "      <th>25%</th>\n",
       "      <td>9.780152e+12</td>\n",
       "    </tr>\n",
       "    <tr>\n",
       "      <th>50%</th>\n",
       "      <td>9.780440e+12</td>\n",
       "    </tr>\n",
       "    <tr>\n",
       "      <th>75%</th>\n",
       "      <td>9.780805e+12</td>\n",
       "    </tr>\n",
       "    <tr>\n",
       "      <th>max</th>\n",
       "      <td>9.788424e+12</td>\n",
       "    </tr>\n",
       "  </tbody>\n",
       "</table>\n",
       "</div>"
      ],
      "text/plain": [
       "             isbn13\n",
       "count  1.310000e+03\n",
       "mean   9.766700e+12\n",
       "std    3.572069e+11\n",
       "min    7.678361e+10\n",
       "25%    9.780152e+12\n",
       "50%    9.780440e+12\n",
       "75%    9.780805e+12\n",
       "max    9.788424e+12"
      ]
     },
     "execution_count": 36,
     "metadata": {},
     "output_type": "execute_result"
    }
   ],
   "source": [
    "data[['isbn13']].describe()"
   ]
  },
  {
   "cell_type": "code",
   "execution_count": 37,
   "metadata": {},
   "outputs": [
    {
     "data": {
      "text/plain": [
       "('isbn13', 'mean', 44, 9766699633185.96, 9766699633185.96)"
      ]
     },
     "execution_count": 37,
     "metadata": {},
     "output_type": "execute_result"
    }
   ],
   "source": [
    "test_num_impute_col(data, 'isbn13', strategies[0])"
   ]
  },
  {
   "cell_type": "code",
   "execution_count": 38,
   "metadata": {},
   "outputs": [
    {
     "data": {
      "text/plain": [
       "('isbn13', 'median', 44, 9780439858030.0, 9780439858030.0)"
      ]
     },
     "execution_count": 38,
     "metadata": {},
     "output_type": "execute_result"
    }
   ],
   "source": [
    "test_num_impute_col(data, 'isbn13', strategies[1])"
   ]
  },
  {
   "cell_type": "code",
   "execution_count": 39,
   "metadata": {},
   "outputs": [
    {
     "data": {
      "text/plain": [
       "('isbn13', 'most_frequent', 44, 9780060288140.0, 9780060288140.0)"
      ]
     },
     "execution_count": 39,
     "metadata": {},
     "output_type": "execute_result"
    }
   ],
   "source": [
    "test_num_impute_col(data, 'isbn13', strategies[2])"
   ]
  },
  {
   "cell_type": "markdown",
   "metadata": {},
   "source": [
    "#### Обработка пропусков в категориальных данных"
   ]
  },
  {
   "cell_type": "code",
   "execution_count": 41,
   "metadata": {},
   "outputs": [
    {
     "name": "stdout",
     "output_type": "stream",
     "text": [
      "Колонка isbn. Тип данных object. Количество пустых значений 52, 3.84%.\n",
      "Колонка original_title. Тип данных object. Количество пустых значений 52, 3.84%.\n",
      "Колонка language_code. Тип данных object. Количество пустых значений 109, 8.05%.\n"
     ]
    }
   ],
   "source": [
    "# Выберем категориальные колонки с пропущенными значениями\n",
    "# Цикл по колонкам датасета\n",
    "cat_cols = []\n",
    "for col in data.columns:\n",
    "    # Количество пустых значений \n",
    "    temp_null_count = data[data[col].isnull()].shape[0]\n",
    "    dt = str(data[col].dtype)\n",
    "    if temp_null_count>0 and (dt=='object'):\n",
    "        cat_cols.append(col)\n",
    "        temp_perc = round((temp_null_count / total_count) * 100.0, 2)\n",
    "        print('Колонка {}. Тип данных {}. Количество пустых значений {}, {}%.'.format(col, dt, temp_null_count, temp_perc))"
   ]
  },
  {
   "cell_type": "code",
   "execution_count": 44,
   "metadata": {},
   "outputs": [
    {
     "data": {
      "text/html": [
       "<div>\n",
       "<style scoped>\n",
       "    .dataframe tbody tr th:only-of-type {\n",
       "        vertical-align: middle;\n",
       "    }\n",
       "\n",
       "    .dataframe tbody tr th {\n",
       "        vertical-align: top;\n",
       "    }\n",
       "\n",
       "    .dataframe thead th {\n",
       "        text-align: right;\n",
       "    }\n",
       "</style>\n",
       "<table border=\"1\" class=\"dataframe\">\n",
       "  <thead>\n",
       "    <tr style=\"text-align: right;\">\n",
       "      <th></th>\n",
       "      <th>language_code</th>\n",
       "    </tr>\n",
       "  </thead>\n",
       "  <tbody>\n",
       "    <tr>\n",
       "      <th>0</th>\n",
       "      <td>eng</td>\n",
       "    </tr>\n",
       "    <tr>\n",
       "      <th>1</th>\n",
       "      <td>eng</td>\n",
       "    </tr>\n",
       "    <tr>\n",
       "      <th>2</th>\n",
       "      <td>en-US</td>\n",
       "    </tr>\n",
       "    <tr>\n",
       "      <th>3</th>\n",
       "      <td>eng</td>\n",
       "    </tr>\n",
       "    <tr>\n",
       "      <th>4</th>\n",
       "      <td>eng</td>\n",
       "    </tr>\n",
       "  </tbody>\n",
       "</table>\n",
       "</div>"
      ],
      "text/plain": [
       "  language_code\n",
       "0           eng\n",
       "1           eng\n",
       "2         en-US\n",
       "3           eng\n",
       "4           eng"
      ]
     },
     "execution_count": 44,
     "metadata": {},
     "output_type": "execute_result"
    }
   ],
   "source": [
    "cat_temp_data = data[['language_code']]\n",
    "cat_temp_data.head()"
   ]
  },
  {
   "cell_type": "code",
   "execution_count": 45,
   "metadata": {},
   "outputs": [
    {
     "data": {
      "text/plain": [
       "array(['eng', 'en-US', nan, 'en-CA', 'en-GB', 'ger', 'spa', 'ind'],\n",
       "      dtype=object)"
      ]
     },
     "execution_count": 45,
     "metadata": {},
     "output_type": "execute_result"
    }
   ],
   "source": [
    "cat_temp_data['language_code'].unique()"
   ]
  },
  {
   "cell_type": "code",
   "execution_count": 46,
   "metadata": {},
   "outputs": [
    {
     "data": {
      "text/plain": [
       "(109, 1)"
      ]
     },
     "execution_count": 46,
     "metadata": {},
     "output_type": "execute_result"
    }
   ],
   "source": [
    "cat_temp_data[cat_temp_data['language_code'].isnull()].shape"
   ]
  },
  {
   "cell_type": "code",
   "execution_count": 47,
   "metadata": {},
   "outputs": [
    {
     "data": {
      "text/plain": [
       "array([['eng'],\n",
       "       ['eng'],\n",
       "       ['en-US'],\n",
       "       ...,\n",
       "       ['eng'],\n",
       "       ['eng'],\n",
       "       ['eng']], dtype=object)"
      ]
     },
     "execution_count": 47,
     "metadata": {},
     "output_type": "execute_result"
    }
   ],
   "source": [
    "# Импьютация наиболее частыми значениями\n",
    "imp2 = SimpleImputer(missing_values=np.nan, strategy='most_frequent')\n",
    "data_imp2 = imp2.fit_transform(cat_temp_data)\n",
    "data_imp2"
   ]
  },
  {
   "cell_type": "code",
   "execution_count": 48,
   "metadata": {},
   "outputs": [
    {
     "data": {
      "text/plain": [
       "array(['en-CA', 'en-GB', 'en-US', 'eng', 'ger', 'ind', 'spa'],\n",
       "      dtype=object)"
      ]
     },
     "execution_count": 48,
     "metadata": {},
     "output_type": "execute_result"
    }
   ],
   "source": [
    "# Пустые значения отсутствуют\n",
    "np.unique(data_imp2)"
   ]
  },
  {
   "cell_type": "code",
   "execution_count": 49,
   "metadata": {},
   "outputs": [
    {
     "data": {
      "text/plain": [
       "array([['eng'],\n",
       "       ['eng'],\n",
       "       ['en-US'],\n",
       "       ...,\n",
       "       ['eng'],\n",
       "       ['eng'],\n",
       "       ['eng']], dtype=object)"
      ]
     },
     "execution_count": 49,
     "metadata": {},
     "output_type": "execute_result"
    }
   ],
   "source": [
    "# Импьютация константой\n",
    "imp3 = SimpleImputer(missing_values=np.nan, strategy='constant', fill_value='NA')\n",
    "data_imp3 = imp3.fit_transform(cat_temp_data)\n",
    "data_imp3"
   ]
  },
  {
   "cell_type": "code",
   "execution_count": 50,
   "metadata": {},
   "outputs": [
    {
     "data": {
      "text/plain": [
       "array(['NA', 'en-CA', 'en-GB', 'en-US', 'eng', 'ger', 'ind', 'spa'],\n",
       "      dtype=object)"
      ]
     },
     "execution_count": 50,
     "metadata": {},
     "output_type": "execute_result"
    }
   ],
   "source": [
    "np.unique(data_imp3)"
   ]
  },
  {
   "cell_type": "code",
   "execution_count": 51,
   "metadata": {},
   "outputs": [
    {
     "data": {
      "text/plain": [
       "109"
      ]
     },
     "execution_count": 51,
     "metadata": {},
     "output_type": "execute_result"
    }
   ],
   "source": [
    "data_imp3[data_imp3=='NA'].size"
   ]
  },
  {
   "cell_type": "markdown",
   "metadata": {},
   "source": [
    "## Преобразование категориальных признаков в числовые"
   ]
  },
  {
   "cell_type": "code",
   "execution_count": 52,
   "metadata": {},
   "outputs": [
    {
     "data": {
      "text/html": [
       "<div>\n",
       "<style scoped>\n",
       "    .dataframe tbody tr th:only-of-type {\n",
       "        vertical-align: middle;\n",
       "    }\n",
       "\n",
       "    .dataframe tbody tr th {\n",
       "        vertical-align: top;\n",
       "    }\n",
       "\n",
       "    .dataframe thead th {\n",
       "        text-align: right;\n",
       "    }\n",
       "</style>\n",
       "<table border=\"1\" class=\"dataframe\">\n",
       "  <thead>\n",
       "    <tr style=\"text-align: right;\">\n",
       "      <th></th>\n",
       "      <th>language_code</th>\n",
       "    </tr>\n",
       "  </thead>\n",
       "  <tbody>\n",
       "    <tr>\n",
       "      <th>0</th>\n",
       "      <td>eng</td>\n",
       "    </tr>\n",
       "    <tr>\n",
       "      <th>1</th>\n",
       "      <td>eng</td>\n",
       "    </tr>\n",
       "    <tr>\n",
       "      <th>2</th>\n",
       "      <td>en-US</td>\n",
       "    </tr>\n",
       "    <tr>\n",
       "      <th>3</th>\n",
       "      <td>eng</td>\n",
       "    </tr>\n",
       "    <tr>\n",
       "      <th>4</th>\n",
       "      <td>eng</td>\n",
       "    </tr>\n",
       "    <tr>\n",
       "      <th>...</th>\n",
       "      <td>...</td>\n",
       "    </tr>\n",
       "    <tr>\n",
       "      <th>1349</th>\n",
       "      <td>eng</td>\n",
       "    </tr>\n",
       "    <tr>\n",
       "      <th>1350</th>\n",
       "      <td>en-US</td>\n",
       "    </tr>\n",
       "    <tr>\n",
       "      <th>1351</th>\n",
       "      <td>eng</td>\n",
       "    </tr>\n",
       "    <tr>\n",
       "      <th>1352</th>\n",
       "      <td>eng</td>\n",
       "    </tr>\n",
       "    <tr>\n",
       "      <th>1353</th>\n",
       "      <td>eng</td>\n",
       "    </tr>\n",
       "  </tbody>\n",
       "</table>\n",
       "<p>1354 rows × 1 columns</p>\n",
       "</div>"
      ],
      "text/plain": [
       "     language_code\n",
       "0              eng\n",
       "1              eng\n",
       "2            en-US\n",
       "3              eng\n",
       "4              eng\n",
       "...            ...\n",
       "1349           eng\n",
       "1350         en-US\n",
       "1351           eng\n",
       "1352           eng\n",
       "1353           eng\n",
       "\n",
       "[1354 rows x 1 columns]"
      ]
     },
     "execution_count": 52,
     "metadata": {},
     "output_type": "execute_result"
    }
   ],
   "source": [
    "cat_enc = pd.DataFrame({'language_code':data_imp2.T[0]})\n",
    "cat_enc"
   ]
  },
  {
   "cell_type": "markdown",
   "metadata": {},
   "source": [
    "### Кодирование категорий целочисленными значениями (label encoding)"
   ]
  },
  {
   "cell_type": "markdown",
   "metadata": {},
   "source": [
    "#### Использование LabelEncoder"
   ]
  },
  {
   "cell_type": "code",
   "execution_count": 53,
   "metadata": {},
   "outputs": [],
   "source": [
    "from sklearn.preprocessing import LabelEncoder"
   ]
  },
  {
   "cell_type": "code",
   "execution_count": 54,
   "metadata": {},
   "outputs": [
    {
     "data": {
      "text/plain": [
       "array(['eng', 'en-US', 'en-CA', 'en-GB', 'ger', 'spa', 'ind'],\n",
       "      dtype=object)"
      ]
     },
     "execution_count": 54,
     "metadata": {},
     "output_type": "execute_result"
    }
   ],
   "source": [
    "cat_enc['language_code'].unique()"
   ]
  },
  {
   "cell_type": "code",
   "execution_count": 55,
   "metadata": {},
   "outputs": [],
   "source": [
    "le = LabelEncoder()\n",
    "cat_enc_le = le.fit_transform(cat_enc['language_code'])"
   ]
  },
  {
   "cell_type": "code",
   "execution_count": 56,
   "metadata": {},
   "outputs": [
    {
     "data": {
      "text/plain": [
       "array(['en-CA', 'en-GB', 'en-US', 'eng', 'ger', 'ind', 'spa'],\n",
       "      dtype=object)"
      ]
     },
     "execution_count": 56,
     "metadata": {},
     "output_type": "execute_result"
    }
   ],
   "source": [
    "# Наименования категорий в соответствии с порядковыми номерами\n",
    "\n",
    "# Свойство называется classes, потому что предполагается что мы решаем \n",
    "# задачу классификации и каждое значение категории соответствует \n",
    "# какому-либо классу целевого признака\n",
    "\n",
    "le.classes_"
   ]
  },
  {
   "cell_type": "code",
   "execution_count": 57,
   "metadata": {},
   "outputs": [
    {
     "data": {
      "text/plain": [
       "array([3, 3, 2, ..., 3, 3, 3])"
      ]
     },
     "execution_count": 57,
     "metadata": {},
     "output_type": "execute_result"
    }
   ],
   "source": [
    "cat_enc_le"
   ]
  },
  {
   "cell_type": "code",
   "execution_count": 58,
   "metadata": {},
   "outputs": [
    {
     "data": {
      "text/plain": [
       "array([0, 1, 2, 3, 4, 5, 6])"
      ]
     },
     "execution_count": 58,
     "metadata": {},
     "output_type": "execute_result"
    }
   ],
   "source": [
    "np.unique(cat_enc_le)"
   ]
  },
  {
   "cell_type": "code",
   "execution_count": 60,
   "metadata": {},
   "outputs": [
    {
     "data": {
      "text/plain": [
       "array(['en-CA', 'en-GB', 'en-US', 'eng', 'ger', 'ind', 'spa'],\n",
       "      dtype=object)"
      ]
     },
     "execution_count": 60,
     "metadata": {},
     "output_type": "execute_result"
    }
   ],
   "source": [
    "# В этом примере видно, что перед кодированием \n",
    "# уникальные значения признака сортируются в лексикографиеском порядке\n",
    "le.inverse_transform([  0,   1,   2,   3,   4,   5,   6])"
   ]
  },
  {
   "cell_type": "markdown",
   "metadata": {},
   "source": [
    "#### Использование OrdinalEncoder"
   ]
  },
  {
   "cell_type": "code",
   "execution_count": 61,
   "metadata": {},
   "outputs": [],
   "source": [
    "from sklearn.preprocessing import OrdinalEncoder"
   ]
  },
  {
   "cell_type": "code",
   "execution_count": 62,
   "metadata": {},
   "outputs": [
    {
     "data": {
      "text/html": [
       "<div>\n",
       "<style scoped>\n",
       "    .dataframe tbody tr th:only-of-type {\n",
       "        vertical-align: middle;\n",
       "    }\n",
       "\n",
       "    .dataframe tbody tr th {\n",
       "        vertical-align: top;\n",
       "    }\n",
       "\n",
       "    .dataframe thead th {\n",
       "        text-align: right;\n",
       "    }\n",
       "</style>\n",
       "<table border=\"1\" class=\"dataframe\">\n",
       "  <thead>\n",
       "    <tr style=\"text-align: right;\">\n",
       "      <th></th>\n",
       "      <th>original_title</th>\n",
       "      <th>authors</th>\n",
       "      <th>average_rating</th>\n",
       "    </tr>\n",
       "  </thead>\n",
       "  <tbody>\n",
       "    <tr>\n",
       "      <th>0</th>\n",
       "      <td>The Hunger Games</td>\n",
       "      <td>Suzanne Collins</td>\n",
       "      <td>4.34</td>\n",
       "    </tr>\n",
       "    <tr>\n",
       "      <th>1</th>\n",
       "      <td>Harry Potter and the Philosopher's Stone</td>\n",
       "      <td>J.K. Rowling, Mary GrandPré</td>\n",
       "      <td>4.44</td>\n",
       "    </tr>\n",
       "    <tr>\n",
       "      <th>2</th>\n",
       "      <td>Twilight</td>\n",
       "      <td>Stephenie Meyer</td>\n",
       "      <td>3.57</td>\n",
       "    </tr>\n",
       "    <tr>\n",
       "      <th>3</th>\n",
       "      <td>The Fault in Our Stars</td>\n",
       "      <td>John Green</td>\n",
       "      <td>4.26</td>\n",
       "    </tr>\n",
       "    <tr>\n",
       "      <th>4</th>\n",
       "      <td>Divergent</td>\n",
       "      <td>Veronica Roth</td>\n",
       "      <td>4.24</td>\n",
       "    </tr>\n",
       "  </tbody>\n",
       "</table>\n",
       "</div>"
      ],
      "text/plain": [
       "                             original_title                      authors  \\\n",
       "0                          The Hunger Games              Suzanne Collins   \n",
       "1  Harry Potter and the Philosopher's Stone  J.K. Rowling, Mary GrandPré   \n",
       "2                                  Twilight              Stephenie Meyer   \n",
       "3                    The Fault in Our Stars                   John Green   \n",
       "4                                 Divergent                Veronica Roth   \n",
       "\n",
       "   average_rating  \n",
       "0            4.34  \n",
       "1            4.44  \n",
       "2            3.57  \n",
       "3            4.26  \n",
       "4            4.24  "
      ]
     },
     "execution_count": 62,
     "metadata": {},
     "output_type": "execute_result"
    }
   ],
   "source": [
    "data_oe = data[['original_title', 'authors', 'average_rating']]\n",
    "data_oe.head()"
   ]
  },
  {
   "cell_type": "code",
   "execution_count": 63,
   "metadata": {},
   "outputs": [
    {
     "data": {
      "text/plain": [
       "array([['The Hunger Games', 'Suzanne Collins', 4.34],\n",
       "       [\"Harry Potter and the Philosopher's Stone\",\n",
       "        'J.K. Rowling, Mary GrandPré', 4.44],\n",
       "       ['Twilight', 'Stephenie Meyer', 3.57],\n",
       "       ...,\n",
       "       ['Dangerous Girls', 'Abigail Haas, Abby McDonald', 4.14],\n",
       "       ['Magonia', 'Maria Dahvana Headley', 3.6],\n",
       "       ['Wild Cards', 'Simone Elkeles', 3.95]], dtype=object)"
      ]
     },
     "execution_count": 63,
     "metadata": {},
     "output_type": "execute_result"
    }
   ],
   "source": [
    "imp4 = SimpleImputer(missing_values=np.nan, strategy='constant', fill_value='NA')\n",
    "data_oe_filled = imp4.fit_transform(data_oe)\n",
    "data_oe_filled"
   ]
  },
  {
   "cell_type": "code",
   "execution_count": 64,
   "metadata": {},
   "outputs": [
    {
     "data": {
      "text/plain": [
       "array([[ 963.,  523.,   94.],\n",
       "       [ 404.,  193.,  104.],\n",
       "       [1212.,  517.,   17.],\n",
       "       ...,\n",
       "       [ 206.,    3.,   74.],\n",
       "       [ 539.,  363.,   20.],\n",
       "       [1263.,  508.,   55.]])"
      ]
     },
     "execution_count": 64,
     "metadata": {},
     "output_type": "execute_result"
    }
   ],
   "source": [
    "oe = OrdinalEncoder()\n",
    "cat_enc_oe = oe.fit_transform(data_oe_filled)\n",
    "cat_enc_oe"
   ]
  },
  {
   "cell_type": "code",
   "execution_count": 65,
   "metadata": {},
   "outputs": [
    {
     "data": {
      "text/plain": [
       "array([0.000e+00, 1.000e+00, 2.000e+00, ..., 1.287e+03, 1.288e+03,\n",
       "       1.289e+03])"
      ]
     },
     "execution_count": 65,
     "metadata": {},
     "output_type": "execute_result"
    }
   ],
   "source": [
    "# Уникальные значения 1 признака\n",
    "np.unique(cat_enc_oe[:, 0])"
   ]
  },
  {
   "cell_type": "code",
   "execution_count": 66,
   "metadata": {},
   "outputs": [
    {
     "data": {
      "text/plain": [
       "array([  0.,   1.,   2.,   3.,   4.,   5.,   6.,   7.,   8.,   9.,  10.,\n",
       "        11.,  12.,  13.,  14.,  15.,  16.,  17.,  18.,  19.,  20.,  21.,\n",
       "        22.,  23.,  24.,  25.,  26.,  27.,  28.,  29.,  30.,  31.,  32.,\n",
       "        33.,  34.,  35.,  36.,  37.,  38.,  39.,  40.,  41.,  42.,  43.,\n",
       "        44.,  45.,  46.,  47.,  48.,  49.,  50.,  51.,  52.,  53.,  54.,\n",
       "        55.,  56.,  57.,  58.,  59.,  60.,  61.,  62.,  63.,  64.,  65.,\n",
       "        66.,  67.,  68.,  69.,  70.,  71.,  72.,  73.,  74.,  75.,  76.,\n",
       "        77.,  78.,  79.,  80.,  81.,  82.,  83.,  84.,  85.,  86.,  87.,\n",
       "        88.,  89.,  90.,  91.,  92.,  93.,  94.,  95.,  96.,  97.,  98.,\n",
       "        99., 100., 101., 102., 103., 104., 105., 106., 107., 108., 109.,\n",
       "       110., 111., 112., 113., 114., 115., 116., 117., 118., 119., 120.,\n",
       "       121., 122., 123., 124., 125., 126., 127., 128., 129., 130., 131.,\n",
       "       132., 133., 134., 135., 136., 137., 138., 139., 140., 141., 142.,\n",
       "       143., 144., 145., 146., 147., 148., 149., 150., 151., 152., 153.,\n",
       "       154., 155., 156., 157., 158., 159., 160., 161., 162., 163., 164.,\n",
       "       165., 166., 167., 168., 169., 170., 171., 172., 173., 174., 175.,\n",
       "       176., 177., 178., 179., 180., 181., 182., 183., 184., 185., 186.,\n",
       "       187., 188., 189., 190., 191., 192., 193., 194., 195., 196., 197.,\n",
       "       198., 199., 200., 201., 202., 203., 204., 205., 206., 207., 208.,\n",
       "       209., 210., 211., 212., 213., 214., 215., 216., 217., 218., 219.,\n",
       "       220., 221., 222., 223., 224., 225., 226., 227., 228., 229., 230.,\n",
       "       231., 232., 233., 234., 235., 236., 237., 238., 239., 240., 241.,\n",
       "       242., 243., 244., 245., 246., 247., 248., 249., 250., 251., 252.,\n",
       "       253., 254., 255., 256., 257., 258., 259., 260., 261., 262., 263.,\n",
       "       264., 265., 266., 267., 268., 269., 270., 271., 272., 273., 274.,\n",
       "       275., 276., 277., 278., 279., 280., 281., 282., 283., 284., 285.,\n",
       "       286., 287., 288., 289., 290., 291., 292., 293., 294., 295., 296.,\n",
       "       297., 298., 299., 300., 301., 302., 303., 304., 305., 306., 307.,\n",
       "       308., 309., 310., 311., 312., 313., 314., 315., 316., 317., 318.,\n",
       "       319., 320., 321., 322., 323., 324., 325., 326., 327., 328., 329.,\n",
       "       330., 331., 332., 333., 334., 335., 336., 337., 338., 339., 340.,\n",
       "       341., 342., 343., 344., 345., 346., 347., 348., 349., 350., 351.,\n",
       "       352., 353., 354., 355., 356., 357., 358., 359., 360., 361., 362.,\n",
       "       363., 364., 365., 366., 367., 368., 369., 370., 371., 372., 373.,\n",
       "       374., 375., 376., 377., 378., 379., 380., 381., 382., 383., 384.,\n",
       "       385., 386., 387., 388., 389., 390., 391., 392., 393., 394., 395.,\n",
       "       396., 397., 398., 399., 400., 401., 402., 403., 404., 405., 406.,\n",
       "       407., 408., 409., 410., 411., 412., 413., 414., 415., 416., 417.,\n",
       "       418., 419., 420., 421., 422., 423., 424., 425., 426., 427., 428.,\n",
       "       429., 430., 431., 432., 433., 434., 435., 436., 437., 438., 439.,\n",
       "       440., 441., 442., 443., 444., 445., 446., 447., 448., 449., 450.,\n",
       "       451., 452., 453., 454., 455., 456., 457., 458., 459., 460., 461.,\n",
       "       462., 463., 464., 465., 466., 467., 468., 469., 470., 471., 472.,\n",
       "       473., 474., 475., 476., 477., 478., 479., 480., 481., 482., 483.,\n",
       "       484., 485., 486., 487., 488., 489., 490., 491., 492., 493., 494.,\n",
       "       495., 496., 497., 498., 499., 500., 501., 502., 503., 504., 505.,\n",
       "       506., 507., 508., 509., 510., 511., 512., 513., 514., 515., 516.,\n",
       "       517., 518., 519., 520., 521., 522., 523., 524., 525., 526., 527.,\n",
       "       528., 529., 530., 531., 532., 533., 534., 535., 536., 537., 538.,\n",
       "       539., 540., 541., 542., 543., 544., 545., 546., 547., 548., 549.,\n",
       "       550., 551., 552., 553., 554.])"
      ]
     },
     "execution_count": 66,
     "metadata": {},
     "output_type": "execute_result"
    }
   ],
   "source": [
    "# Уникальные значения 2 признака\n",
    "np.unique(cat_enc_oe[:, 1])"
   ]
  },
  {
   "cell_type": "code",
   "execution_count": 67,
   "metadata": {},
   "outputs": [
    {
     "data": {
      "text/plain": [
       "array([  0.,   1.,   2.,   3.,   4.,   5.,   6.,   7.,   8.,   9.,  10.,\n",
       "        11.,  12.,  13.,  14.,  15.,  16.,  17.,  18.,  19.,  20.,  21.,\n",
       "        22.,  23.,  24.,  25.,  26.,  27.,  28.,  29.,  30.,  31.,  32.,\n",
       "        33.,  34.,  35.,  36.,  37.,  38.,  39.,  40.,  41.,  42.,  43.,\n",
       "        44.,  45.,  46.,  47.,  48.,  49.,  50.,  51.,  52.,  53.,  54.,\n",
       "        55.,  56.,  57.,  58.,  59.,  60.,  61.,  62.,  63.,  64.,  65.,\n",
       "        66.,  67.,  68.,  69.,  70.,  71.,  72.,  73.,  74.,  75.,  76.,\n",
       "        77.,  78.,  79.,  80.,  81.,  82.,  83.,  84.,  85.,  86.,  87.,\n",
       "        88.,  89.,  90.,  91.,  92.,  93.,  94.,  95.,  96.,  97.,  98.,\n",
       "        99., 100., 101., 102., 103., 104., 105., 106., 107., 108., 109.,\n",
       "       110., 111., 112., 113., 114., 115., 116., 117., 118., 119., 120.])"
      ]
     },
     "execution_count": 67,
     "metadata": {},
     "output_type": "execute_result"
    }
   ],
   "source": [
    "# Уникальные значения 3 признака\n",
    "np.unique(cat_enc_oe[:, 2])"
   ]
  },
  {
   "cell_type": "code",
   "execution_count": 68,
   "metadata": {},
   "outputs": [
    {
     "data": {
      "text/plain": [
       "[array([' A Monster Calls ', ' Burned (Burned, #1)', ' The Sea of Trolls',\n",
       "        ..., 'スペシャル·エー', 'ラブ★コン 1', '彼氏彼女の事情 #1'], dtype=object),\n",
       " array(['A.C. Gaughen', 'A.G. Howard', 'A.S. King',\n",
       "        'Abigail Haas, Abby McDonald', 'Adam Gidwitz', 'Aimee Carter',\n",
       "        'Alex   Sanchez', 'Alex Flinn', 'Alexander Gordon Smith',\n",
       "        'Alexandra Adornetto', 'Alexandra Bracken', 'Alison Croggon',\n",
       "        'Alison Goodman', 'Ally Carter', 'Ally Condie', 'Alwyn Hamilton',\n",
       "        'Alyson Noel', 'Amanda Hocking', 'Amie Kaufman, Jay Kristoff',\n",
       "        'Amie Kaufman, Jay Kristoff, Marie Lu',\n",
       "        'Amie Kaufman, Meagan Spooner', 'Amy Efaw', 'Amy Ewing',\n",
       "        'Amy Plum', 'Amy Tintera', 'Amy Zhang', 'Andrea Cremer',\n",
       "        'Andrew  Smith', 'Andrew Clements', 'Angela Johnson', 'Angie Sage',\n",
       "        'Angie Sage, Mark Zug', 'Angie Thomas', 'Ann Aguirre',\n",
       "        'Ann Brashares', 'Ann M. Martin', 'Anna Banks', 'Anna Carey',\n",
       "        'Anna Godbersen', 'Anne McCaffrey', 'Annette Curtis Klause',\n",
       "        'Anthony Horowitz', 'April Henry', 'Aprilynne Pike',\n",
       "        'Ava Dellaira', 'Avi', 'Aya Nakahara, Pookie Rolf', 'Barry Lyga',\n",
       "        'Beatrice Sparks, Anonymous', 'Becca Fitzpatrick',\n",
       "        'Becky Albertalli', 'Ben Mikaelsen', 'Benjamin Alire Sáenz',\n",
       "        'Beth Fantaskey', 'Beth Revis', 'Bette Greene',\n",
       "        'Beverly Cleary, Paul O. Zelinsky',\n",
       "        'Blue Balliett, Brett Helquist', 'Brandon Mull',\n",
       "        'Brandon Sanderson', 'Bree Despain', 'Brenna Yovanoff',\n",
       "        'Brian Jacques', 'Brian Jacques, Allan Curless',\n",
       "        'Brian Jacques, Gary Chalk', 'Brian K. Vaughan, Adrian Alphona',\n",
       "        'Brian Selznick', 'Brigid Kemmerer', 'Brodi Ashton', 'C.C. Hunter',\n",
       "        'C.S. Lewis', 'C.S. Lewis, Pauline Baynes', 'Cammie McGovern',\n",
       "        'Candace Bushnell', \"Caragh M. O'Brien\", 'Carl Hiaasen',\n",
       "        'Carlos Ruiz Zafón', 'Carlos Ruiz Zafón, Lucia Graves',\n",
       "        'Carol Lynch Williams', 'Carol Rifka Brunt', 'Caroline B. Cooney',\n",
       "        'Carolyn Keene', 'Carolyn Mackler', 'Carrie Anne Noble',\n",
       "        'Carrie Jones', 'Carrie Ryan', 'Cassandra Clare', 'Cat Patrick',\n",
       "        'Cate Tiernan', 'Cath Crowley', 'Catherine Fisher',\n",
       "        'Catherine Gilbert Murdock', 'Cathy Hopkins',\n",
       "        'Cecily von Ziegesar', 'Chaim Potok', 'Chanda Hahn',\n",
       "        'Charlie Higson', 'Charlie N. Holmberg', 'Cheryl Rainfield',\n",
       "        'China Miéville', 'Chris Crutcher', 'Chris Heimerdinger',\n",
       "        'Chris Van Allsburg, Lois Lowry, Kate DiCamillo, M.T. Anderson, Louis Sachar, Stephen King, Tabitha King, Jon Scieszka, Sherman Alexie, Gregory Maguire, Cory Doctorow, Jules Feiffer, Linda Sue Park, Walter Dean Myers, Lemony Snicket',\n",
       "        'Christopher Paolini', 'Christopher Paul Curtis',\n",
       "        'Christopher Pike', 'Cinda Williams Chima', 'Claire LaZebnik',\n",
       "        'Clare Vanderpool', 'Claudia Gray', 'Clive Barker',\n",
       "        'Colin Meloy, Carson Ellis', 'Colleen Houck', 'Cornelia Funke',\n",
       "        'Cornelia Funke, Anthea Bell', 'Cory Doctorow',\n",
       "        'Courtney Allison Moulton', 'Craig Silvey', 'Cristin Terrill',\n",
       "        'Cynthia Hand', 'Cynthia Hand, Brodi Ashton, Jodi Meadows',\n",
       "        'Cynthia Kadohata', 'Cynthia Voigt', 'D.J. MacHale', 'Dan Wells',\n",
       "        'Daniel Handler, Maira Kalman', 'Danielle  Paige', 'Darren Shan',\n",
       "        'Dave Barry, Ridley Pearson, Greg Call', 'David  Arnold',\n",
       "        'David Almond', 'David Colbert', 'David Levithan', 'Deborah Ellis',\n",
       "        'Derek Landy', 'Derek Landy, Tom Percival', 'Diana Wynne Jones',\n",
       "        'Diane Duane', 'Dodie Smith', 'E. Lockhart', 'E.D. Baker',\n",
       "        'E.L. Konigsburg', 'Edith Pattou', 'Edward Bloor, Danny De Vito',\n",
       "        'Elizabeth Chandler', 'Elizabeth Eulberg',\n",
       "        'Elizabeth George Speare', 'Elizabeth Norris', 'Elizabeth Scott',\n",
       "        'Elizabeth Wein', 'Ellen Hopkins', 'Ellen Raskin',\n",
       "        'Ellen Schreiber', 'Emily Carroll', 'Emily M. Danforth',\n",
       "        'Emily Murdoch', 'Emmy Laybourne', 'Eoin Colfer', 'Eric Wilson',\n",
       "        'Esther Forbes, Lynd Ward', 'Eva Ibbotson', 'Francisco X. Stork',\n",
       "        'Frank Beddor', 'Gabrielle Zevin', 'Gail Carriger',\n",
       "        'Gail Carson Levine', 'Garth Nix', 'Gary D. Schmidt',\n",
       "        'Gary Paulsen', 'Gayle Forman', 'Gemma Malley', 'Gena Showalter',\n",
       "        'Gene Luen Yang', 'Gene Stratton-Porter', 'Gennifer Albin',\n",
       "        'Gennifer Choldenko', 'Georgia Byng',\n",
       "        'Gertrude Chandler Warner, L. Kate Deal', 'Gloria Levine',\n",
       "        'Gordon Korman', 'Hannah Harrington', 'Harlan Coben',\n",
       "        'Harry Gregson-Williams', 'Heather Brewer', 'Heather Dixon',\n",
       "        'Holly Black', 'Holly Goldberg Sloan', 'Huntley Fitzpatrick',\n",
       "        'Ilsa J. Bick', 'Ingrid Law', 'Isaac Marion',\n",
       "        'Isabel Allende, Margaret Sayers Peden', 'J.K. Rowling',\n",
       "        'J.K. Rowling, Mary GrandPré',\n",
       "        'J.K. Rowling, Mary GrandPré, Rufus Beck', 'Jack Gantos',\n",
       "        'Jaclyn Moriarty', 'Jacqueline Kelly', 'Jacqueline Wilson',\n",
       "        'James Dashner', 'James Lincoln Collier, Christopher Collier',\n",
       "        'James Patterson', 'James Patterson, Chris Tebbetts, Laura Park',\n",
       "        'James Patterson, Gabrielle Charbonnet',\n",
       "        'James Patterson, Jill Dembowski, Elijah Wood, Spencer Locke',\n",
       "        'James Patterson, Maxine Paetro',\n",
       "        'James Patterson, Michael Ledwidge', 'James Patterson, Ned Rust',\n",
       "        'Jandy Nelson', 'Jane Yolen', 'Janne Teller, Martin Aitken',\n",
       "        'Jasmine Warga', 'Jasper Fforde', 'Jay Asher',\n",
       "        'Jay Asher, Carolyn Mackler', 'Jean Craighead George',\n",
       "        'Jean Craighead George, John Schoenherr', 'Jean Ferris',\n",
       "        'Jean Webster', 'Jeanne DuPrau', 'Jenna Black',\n",
       "        'Jennifer A. Nielsen', 'Jennifer Brown', 'Jennifer Donnelly',\n",
       "        'Jennifer E. Smith', 'Jennifer Echols', 'Jennifer Estep',\n",
       "        'Jennifer L. Armentrout', 'Jennifer Lynn Barnes', 'Jennifer Niven',\n",
       "        'Jennifer Niven, فرانک معنوی', 'Jenny Downham', 'Jenny Han',\n",
       "        'Jenny Han, Siobhan Vivian', 'Jenny Nimmo', \"Jenny O'Connell\",\n",
       "        'Jerry Spinelli', 'Jess Rothenberg', 'Jesse Andrews',\n",
       "        'Jessica Anthony, Rodrigo Corral', 'Jessica Day George',\n",
       "        'Jessica Sorensen', 'Jessica Verday',\n",
       "        'Jim Kjelgaard, Carl Pfeuffer', 'Joan Aiken, Pat Marriott',\n",
       "        'Joan Bauer', 'Jocelyn Davies', 'Jodi Lynn Anderson',\n",
       "        'Jodi Meadows', 'Jodi Picoult, Samantha van Leer',\n",
       "        'Joelle Charbonneau', 'John Boyne', 'John Corey Whaley',\n",
       "        'John D. Fitzgerald, Mercer Mayer', 'John Flanagan', 'John Green',\n",
       "        'John Green, David Levithan',\n",
       "        'John Green, Maureen Johnson, Lauren Myracle',\n",
       "        'John Grisham, Richard Thomas', 'John Knowles', 'John Marsden',\n",
       "        'Jonathan Maberry', 'Jonathan Stroud',\n",
       "        'Jonathan Stroud, Simon  Jones', 'Jordan Sonnenblick',\n",
       "        'Joseph Delaney, Patrick  Arrasmith', 'Josephine Angelini',\n",
       "        'Jude Watson', 'Judy Blume', 'Julia Hoban', 'Julianna Baggott',\n",
       "        'Julie   Murphy', 'Julie Anne Peters',\n",
       "        'Julie Anne Peters, C.J. Bott', 'Julie Buxbaum', 'Julie Kagawa',\n",
       "        'Juliet Marillier', 'Justina Chen', 'Kami Garcia, Margaret Stohl',\n",
       "        'Kami Garcia, Margaret Stohl, Paz Pruneda', 'Karen Cushman',\n",
       "        'Karen Hesse', 'Karen Thompson Walker', 'Kasie West',\n",
       "        'Kass Morgan', 'Kate Brian', 'Kate DiCamillo', 'Kate Egan',\n",
       "        'Katherine Paterson', 'Kathryn Erskine', 'Kathryn Lasky',\n",
       "        'Kathy Reichs, Brendan Reichs', 'Katie Alender', 'Katie Cotugno',\n",
       "        'Katie Klein', 'Katja Millay', 'Kelley Armstrong', 'Kelly Creagh',\n",
       "        'Kendare Blake', 'Kenneth Oppel',\n",
       "        'Kennilworthy Whisp, J.K. Rowling', 'Kerstin Gier',\n",
       "        'Kerstin Gier, Anthea Bell', 'Kiera Cass', 'Kiersten White',\n",
       "        'Kimberly Derting', 'Kody Keplinger', 'Kresley Cole',\n",
       "        'Kristen Simmons', 'Kristin Cashore', 'Kristin Levine',\n",
       "        'Kwame Alexander', 'L.A. Meyer', 'L.A. Weatherly', 'L.J. Smith',\n",
       "        'L.J. Smith, Kevin Williamson, Julie Plec', 'L.M. Montgomery',\n",
       "        'Laini Taylor', 'Laura Ingalls Wilder, Garth Williams',\n",
       "        'Laura Ruby', 'Laura Whitcomb', 'Laura Wiess', 'Lauren Barnholdt',\n",
       "        'Lauren Conrad', 'Lauren DeStefano', 'Lauren Kate',\n",
       "        'Lauren Morrill', 'Lauren Myracle', 'Lauren Oliver',\n",
       "        'Laurie Faria Stolarz', 'Laurie Halse Anderson',\n",
       "        'Leah Wilson, Jennifer Lynn Barnes, Mary Borsellino, Sarah Rees Brennan, Terri  Clark, Bree Despain, Adrienne Kress, Sarah Darer Littman, Cara Lockwood, Elizabeth M. Rees, Carrie Ryan, Ned Vizzini, Lili Wilkinson, Blythe Woolston',\n",
       "        'Leigh Bardugo', 'Leila Sales', 'Lemony Snicket',\n",
       "        'Lemony Snicket, Brett Helquist', 'Lesley Livingston',\n",
       "        'Leslye Walton', 'Libba Bray', 'Linda Sue Park', 'Lisa McMann',\n",
       "        \"Lisa O'Donnell\", 'Lisa Tawn Bergren', 'Lisi Harrison',\n",
       "        'Lissa Price', 'Liz Kessler, Sarah Gibb', 'Lloyd Alexander',\n",
       "        'Lois Lowry', 'Louis Sachar', 'Louis Sachar, Louis Sachar',\n",
       "        'Louisa May Alcott', 'Louise Rennison', 'Lucy Christopher',\n",
       "        'Lurlene McDaniel', 'Lynda Mullaly Hunt', 'M.T. Anderson',\n",
       "        \"Madeleine L'Engle\", 'Madeleine Roux', 'Maggie Stiefvater',\n",
       "        'Maki Minami', 'Malinda Lo', 'Malorie Blackman',\n",
       "        'Margaret Peterson Haddix', 'Maria Dahvana Headley',\n",
       "        'Maria V. Snyder', 'Marie Lu', 'Marie Rutkoski', 'Marieke Nijkamp',\n",
       "        'Mariko Tamaki, Jillian Tamaki', 'Marissa Meyer', 'Mark Cotta Vaz',\n",
       "        'Markus Zusak', 'Mary Downing Hahn', 'Mary E. Pearson',\n",
       "        'Mary Hoffman', 'Mary-Jane Knight, Rick Riordan',\n",
       "        'Masami Tsuda, Darcy Lockman, Jack Niida', 'Matthew Quick',\n",
       "        'Maureen Johnson', 'Meg Cabot', 'Meg Rosoff', 'Meg Wolitzer',\n",
       "        'Megan Abbott', 'Megan McCafferty', 'Megan Shepherd',\n",
       "        'Megan Whalen Turner', 'Melina Marchetta', 'Melissa Marr',\n",
       "        'Melissa de la Cruz', 'Melvin Burgess', 'Michael  Grant',\n",
       "        'Michael Buckley, Peter Ferguson', 'Michael Morpurgo',\n",
       "        'Michael Scott', 'Michael Thomas Ford', 'Michelle Hodkin',\n",
       "        'Michelle Magorian', 'Michelle Paver, Geoff Taylor',\n",
       "        'Michelle Rowen, Richelle Mead', 'Mike Lupica', 'Mike Mullin',\n",
       "        'Mildred D. Taylor', 'Miranda Kenneally', 'Moira Young',\n",
       "        'Morgan Matson', 'Morris Gleitzman', 'Morton Rhue, Todd Strasser',\n",
       "        'Myra McEntire', 'Nancy Farmer', 'Nancy Garden', 'Natalie Babbitt',\n",
       "        'Natasha Friend', 'Neal Shusterman', 'Ned Vizzini', 'Neil Gaiman',\n",
       "        'Neil Gaiman, Chris Riddell', 'Neil Gaiman, Dave McKean',\n",
       "        'Neil Gaiman, Michael Reaves', 'Nick Hornby', 'Nicola Yoon',\n",
       "        'Nicola Yoon, David Yoon', 'Nina LaCour', 'Noelle Stevenson',\n",
       "        'Norton Juster, Jules Feiffer', 'Obert Skye', 'Orson Scott Card',\n",
       "        'P.C. Cast, Kristin Cast', 'Pam Muñoz Ryan',\n",
       "        'Patricia C. Wrede, Peter de Sève', 'Patricia McCormick',\n",
       "        'Patricia Reilly Giff', 'Patrick Ness',\n",
       "        'Patrick Ness, Jim Kay, Siobhan Dowd', 'Paul Zindel',\n",
       "        'Perry Moore', 'Philip Pullman', 'Philip Pullman, John Lawrence',\n",
       "        'Philip Reeve', 'Pittacus Lore', 'R.J. Palacio', 'Rachel Caine',\n",
       "        'Rachel Caine, Cynthia Holloway', 'Rachel Cohn, David Levithan',\n",
       "        'Rachel Hartman', 'Rachel Hawkins', 'Rachel Vincent',\n",
       "        'Rachel Ward', 'Rae Carson', 'Raina Telgemeier, Gurihiru',\n",
       "        'Rainbow Rowell', 'Ransom Riggs', 'Rebecca Stead', 'Renee Ahdieh',\n",
       "        'Richard Paul Evans', 'Richard Peck', 'Richelle Mead',\n",
       "        'Rick Riordan', 'Rick Riordan, Tk', 'Rick Yancey',\n",
       "        'Ridley Pearson, David Frankland', 'Rita Williams-Garcia',\n",
       "        'Roald Dahl', \"Robert C. O'Brien\", 'Robert Cormier',\n",
       "        'Robert Muchamore', 'Robin Benway', 'Robin LaFevers',\n",
       "        'Robin McKinley', 'Robison Wells', 'Robyn Schneider',\n",
       "        'Roderick Gordon, Brian  Williams', 'Rodman Philbrick',\n",
       "        'Roger Lea MacBride, David Gilleece', 'Roland Smith',\n",
       "        'Rosamund Hodge', 'Ruta Sepetys', 'Rysa Walker', 'S.A. Bodeen',\n",
       "        'S.E. Hinton', 'Sabaa Tahir', 'Sally Green', 'Sandra Cisneros',\n",
       "        'Sandy   Hall', 'Sara B. Larson', 'Sara Ryan', 'Sara Shepard',\n",
       "        'Sara Zarr',\n",
       "        'Sarah Blakley-Cartwright, David Leslie Johnson, Catherine Hardwicke',\n",
       "        'Sarah Crossan', 'Sarah Dessen', 'Sarah J. Maas',\n",
       "        'Sarah Mlynowski', 'Sarah Ockler', 'Sarah Rees Brennan',\n",
       "        'Sarah Weeks', \"Scott O'Dell\", 'Scott Westerfeld',\n",
       "        'Scott Westerfeld, Keith Thompson', 'Shana Norris', 'Shannon Hale',\n",
       "        'Shannon Hale, James Noel Smith', 'Sharon Creech',\n",
       "        'Sharon G. Flake', 'Sharon M. Draper', 'Sherman Alexie',\n",
       "        'Sherman Alexie, Ellen Forney', 'Sherrilyn Kenyon',\n",
       "        'Sherwood Smith', 'Simone Elkeles', 'Siobhan Vivian',\n",
       "        'Sonya Sones', 'Sophie Jordan', 'Sophie Kinsella',\n",
       "        'Stephanie Garber', 'Stephanie Perkins',\n",
       "        'Stephanie Perkins, Holly Black, Ally Carter, Matt de la Pena, Gayle Forman, Jenny Han, David Levithan, Kelly Link, Myra McEntire, Rainbow Rowell, Laini Taylor, Kiersten White',\n",
       "        'Stephen Chbosky', 'Stephenie Meyer',\n",
       "        'Stephenie Meyer, Ilyana Kadushin, Matt Walters', 'Sue Townsend',\n",
       "        'Susan Beth Pfeffer', 'Susan Cooper', 'Susane Colasanti',\n",
       "        'Suzanne Collins', 'Suzanne Weyn', 'Suzanne Young', 'T.A. Barron',\n",
       "        'Tabitha Suzuma', 'Tahereh Mafi', 'Tamara Ireland Stone',\n",
       "        'Tamora Pierce', 'Terry Pratchett', 'The Harvard Lampoon',\n",
       "        'Theodore Taylor', 'Thomas E. Sniegoski', 'Tim Tharp',\n",
       "        'Trenton Lee Stewart, Carson Ellis',\n",
       "        'Trenton Lee Stewart, Diana Sudyka', 'Trish Doller',\n",
       "        'Ursula K. Le Guin', 'V.C. Andrews', 'Vera Brosgol',\n",
       "        'Veronica Rossi', 'Veronica Roth', 'Victoria Aveyard',\n",
       "        'Victoria Schwab', 'Walter Dean Myers',\n",
       "        'Walter Farley, Keith Ward', 'Wendelin Van Draanen', 'Wendy Mass',\n",
       "        'William H. Armstrong, James Barkley',\n",
       "        'William Nicholson, Peter Sís', 'Wilson Rawls',\n",
       "        'Zilpha Keatley Snyder', 'Zoe Sugg, Siobhan Curham'], dtype=object),\n",
       " array([3.23, 3.25, 3.27, 3.36, 3.39, 3.4, 3.41, 3.46, 3.48, 3.49, 3.5,\n",
       "        3.51, 3.52, 3.53, 3.54, 3.55, 3.56, 3.57, 3.58, 3.59, 3.6, 3.61,\n",
       "        3.62, 3.63, 3.64, 3.65, 3.66, 3.67, 3.68, 3.69, 3.7, 3.71, 3.72,\n",
       "        3.73, 3.74, 3.75, 3.76, 3.77, 3.78, 3.79, 3.8, 3.81, 3.82, 3.83,\n",
       "        3.84, 3.85, 3.86, 3.87, 3.88, 3.89, 3.9, 3.91, 3.92, 3.93, 3.94,\n",
       "        3.95, 3.96, 3.97, 3.98, 3.99, 4.0, 4.01, 4.02, 4.03, 4.04, 4.05,\n",
       "        4.06, 4.07, 4.08, 4.09, 4.1, 4.11, 4.12, 4.13, 4.14, 4.15, 4.16,\n",
       "        4.17, 4.18, 4.19, 4.2, 4.21, 4.22, 4.23, 4.24, 4.25, 4.26, 4.27,\n",
       "        4.28, 4.29, 4.3, 4.31, 4.32, 4.33, 4.34, 4.35, 4.36, 4.37, 4.38,\n",
       "        4.39, 4.4, 4.41, 4.42, 4.43, 4.44, 4.45, 4.46, 4.47, 4.48, 4.49,\n",
       "        4.5, 4.51, 4.53, 4.54, 4.56, 4.57, 4.59, 4.61, 4.62, 4.73, 4.74],\n",
       "       dtype=object)]"
      ]
     },
     "execution_count": 68,
     "metadata": {},
     "output_type": "execute_result"
    }
   ],
   "source": [
    "# Наименования категорий в соответствии с порядковыми номерами\n",
    "oe.categories_"
   ]
  },
  {
   "cell_type": "code",
   "execution_count": 69,
   "metadata": {},
   "outputs": [
    {
     "data": {
      "text/plain": [
       "array([['The Hunger Games', 'Suzanne Collins', 4.34],\n",
       "       [\"Harry Potter and the Philosopher's Stone\",\n",
       "        'J.K. Rowling, Mary GrandPré', 4.44],\n",
       "       ['Twilight', 'Stephenie Meyer', 3.57],\n",
       "       ...,\n",
       "       ['Dangerous Girls', 'Abigail Haas, Abby McDonald', 4.14],\n",
       "       ['Magonia', 'Maria Dahvana Headley', 3.6],\n",
       "       ['Wild Cards', 'Simone Elkeles', 3.95]], dtype=object)"
      ]
     },
     "execution_count": 69,
     "metadata": {},
     "output_type": "execute_result"
    }
   ],
   "source": [
    "# Обратное преобразование\n",
    "oe.inverse_transform(cat_enc_oe)"
   ]
  },
  {
   "cell_type": "markdown",
   "metadata": {},
   "source": [
    "### Кодирование шкал порядка"
   ]
  },
  {
   "cell_type": "code",
   "execution_count": 70,
   "metadata": {},
   "outputs": [],
   "source": [
    "# пример шкалы порядка 'small' < 'medium' < 'large'\n",
    "sizes = ['small', 'medium', 'large', 'small', 'medium', 'large', 'small', 'medium', 'large', 'medium', 'large']"
   ]
  },
  {
   "cell_type": "code",
   "execution_count": 71,
   "metadata": {},
   "outputs": [
    {
     "data": {
      "text/html": [
       "<div>\n",
       "<style scoped>\n",
       "    .dataframe tbody tr th:only-of-type {\n",
       "        vertical-align: middle;\n",
       "    }\n",
       "\n",
       "    .dataframe tbody tr th {\n",
       "        vertical-align: top;\n",
       "    }\n",
       "\n",
       "    .dataframe thead th {\n",
       "        text-align: right;\n",
       "    }\n",
       "</style>\n",
       "<table border=\"1\" class=\"dataframe\">\n",
       "  <thead>\n",
       "    <tr style=\"text-align: right;\">\n",
       "      <th></th>\n",
       "      <th>sizes</th>\n",
       "    </tr>\n",
       "  </thead>\n",
       "  <tbody>\n",
       "    <tr>\n",
       "      <th>0</th>\n",
       "      <td>small</td>\n",
       "    </tr>\n",
       "    <tr>\n",
       "      <th>1</th>\n",
       "      <td>medium</td>\n",
       "    </tr>\n",
       "    <tr>\n",
       "      <th>2</th>\n",
       "      <td>large</td>\n",
       "    </tr>\n",
       "    <tr>\n",
       "      <th>3</th>\n",
       "      <td>small</td>\n",
       "    </tr>\n",
       "    <tr>\n",
       "      <th>4</th>\n",
       "      <td>medium</td>\n",
       "    </tr>\n",
       "    <tr>\n",
       "      <th>5</th>\n",
       "      <td>large</td>\n",
       "    </tr>\n",
       "    <tr>\n",
       "      <th>6</th>\n",
       "      <td>small</td>\n",
       "    </tr>\n",
       "    <tr>\n",
       "      <th>7</th>\n",
       "      <td>medium</td>\n",
       "    </tr>\n",
       "    <tr>\n",
       "      <th>8</th>\n",
       "      <td>large</td>\n",
       "    </tr>\n",
       "    <tr>\n",
       "      <th>9</th>\n",
       "      <td>medium</td>\n",
       "    </tr>\n",
       "    <tr>\n",
       "      <th>10</th>\n",
       "      <td>large</td>\n",
       "    </tr>\n",
       "  </tbody>\n",
       "</table>\n",
       "</div>"
      ],
      "text/plain": [
       "     sizes\n",
       "0    small\n",
       "1   medium\n",
       "2    large\n",
       "3    small\n",
       "4   medium\n",
       "5    large\n",
       "6    small\n",
       "7   medium\n",
       "8    large\n",
       "9   medium\n",
       "10   large"
      ]
     },
     "execution_count": 71,
     "metadata": {},
     "output_type": "execute_result"
    }
   ],
   "source": [
    "pd_sizes = pd.DataFrame(data={'sizes':sizes})\n",
    "pd_sizes"
   ]
  },
  {
   "cell_type": "code",
   "execution_count": 72,
   "metadata": {},
   "outputs": [
    {
     "data": {
      "text/html": [
       "<div>\n",
       "<style scoped>\n",
       "    .dataframe tbody tr th:only-of-type {\n",
       "        vertical-align: middle;\n",
       "    }\n",
       "\n",
       "    .dataframe tbody tr th {\n",
       "        vertical-align: top;\n",
       "    }\n",
       "\n",
       "    .dataframe thead th {\n",
       "        text-align: right;\n",
       "    }\n",
       "</style>\n",
       "<table border=\"1\" class=\"dataframe\">\n",
       "  <thead>\n",
       "    <tr style=\"text-align: right;\">\n",
       "      <th></th>\n",
       "      <th>sizes</th>\n",
       "      <th>sizes_codes</th>\n",
       "    </tr>\n",
       "  </thead>\n",
       "  <tbody>\n",
       "    <tr>\n",
       "      <th>0</th>\n",
       "      <td>small</td>\n",
       "      <td>1</td>\n",
       "    </tr>\n",
       "    <tr>\n",
       "      <th>1</th>\n",
       "      <td>medium</td>\n",
       "      <td>2</td>\n",
       "    </tr>\n",
       "    <tr>\n",
       "      <th>2</th>\n",
       "      <td>large</td>\n",
       "      <td>3</td>\n",
       "    </tr>\n",
       "    <tr>\n",
       "      <th>3</th>\n",
       "      <td>small</td>\n",
       "      <td>1</td>\n",
       "    </tr>\n",
       "    <tr>\n",
       "      <th>4</th>\n",
       "      <td>medium</td>\n",
       "      <td>2</td>\n",
       "    </tr>\n",
       "    <tr>\n",
       "      <th>5</th>\n",
       "      <td>large</td>\n",
       "      <td>3</td>\n",
       "    </tr>\n",
       "    <tr>\n",
       "      <th>6</th>\n",
       "      <td>small</td>\n",
       "      <td>1</td>\n",
       "    </tr>\n",
       "    <tr>\n",
       "      <th>7</th>\n",
       "      <td>medium</td>\n",
       "      <td>2</td>\n",
       "    </tr>\n",
       "    <tr>\n",
       "      <th>8</th>\n",
       "      <td>large</td>\n",
       "      <td>3</td>\n",
       "    </tr>\n",
       "    <tr>\n",
       "      <th>9</th>\n",
       "      <td>medium</td>\n",
       "      <td>2</td>\n",
       "    </tr>\n",
       "    <tr>\n",
       "      <th>10</th>\n",
       "      <td>large</td>\n",
       "      <td>3</td>\n",
       "    </tr>\n",
       "  </tbody>\n",
       "</table>\n",
       "</div>"
      ],
      "text/plain": [
       "     sizes  sizes_codes\n",
       "0    small            1\n",
       "1   medium            2\n",
       "2    large            3\n",
       "3    small            1\n",
       "4   medium            2\n",
       "5    large            3\n",
       "6    small            1\n",
       "7   medium            2\n",
       "8    large            3\n",
       "9   medium            2\n",
       "10   large            3"
      ]
     },
     "execution_count": 72,
     "metadata": {},
     "output_type": "execute_result"
    }
   ],
   "source": [
    "pd_sizes['sizes_codes'] = pd_sizes['sizes'].map({'small':1, 'medium':2, 'large':3})\n",
    "pd_sizes"
   ]
  },
  {
   "cell_type": "code",
   "execution_count": 73,
   "metadata": {},
   "outputs": [
    {
     "data": {
      "text/html": [
       "<div>\n",
       "<style scoped>\n",
       "    .dataframe tbody tr th:only-of-type {\n",
       "        vertical-align: middle;\n",
       "    }\n",
       "\n",
       "    .dataframe tbody tr th {\n",
       "        vertical-align: top;\n",
       "    }\n",
       "\n",
       "    .dataframe thead th {\n",
       "        text-align: right;\n",
       "    }\n",
       "</style>\n",
       "<table border=\"1\" class=\"dataframe\">\n",
       "  <thead>\n",
       "    <tr style=\"text-align: right;\">\n",
       "      <th></th>\n",
       "      <th>sizes</th>\n",
       "      <th>sizes_codes</th>\n",
       "      <th>sizes_decoded</th>\n",
       "    </tr>\n",
       "  </thead>\n",
       "  <tbody>\n",
       "    <tr>\n",
       "      <th>0</th>\n",
       "      <td>small</td>\n",
       "      <td>1</td>\n",
       "      <td>small</td>\n",
       "    </tr>\n",
       "    <tr>\n",
       "      <th>1</th>\n",
       "      <td>medium</td>\n",
       "      <td>2</td>\n",
       "      <td>medium</td>\n",
       "    </tr>\n",
       "    <tr>\n",
       "      <th>2</th>\n",
       "      <td>large</td>\n",
       "      <td>3</td>\n",
       "      <td>large</td>\n",
       "    </tr>\n",
       "    <tr>\n",
       "      <th>3</th>\n",
       "      <td>small</td>\n",
       "      <td>1</td>\n",
       "      <td>small</td>\n",
       "    </tr>\n",
       "    <tr>\n",
       "      <th>4</th>\n",
       "      <td>medium</td>\n",
       "      <td>2</td>\n",
       "      <td>medium</td>\n",
       "    </tr>\n",
       "    <tr>\n",
       "      <th>5</th>\n",
       "      <td>large</td>\n",
       "      <td>3</td>\n",
       "      <td>large</td>\n",
       "    </tr>\n",
       "    <tr>\n",
       "      <th>6</th>\n",
       "      <td>small</td>\n",
       "      <td>1</td>\n",
       "      <td>small</td>\n",
       "    </tr>\n",
       "    <tr>\n",
       "      <th>7</th>\n",
       "      <td>medium</td>\n",
       "      <td>2</td>\n",
       "      <td>medium</td>\n",
       "    </tr>\n",
       "    <tr>\n",
       "      <th>8</th>\n",
       "      <td>large</td>\n",
       "      <td>3</td>\n",
       "      <td>large</td>\n",
       "    </tr>\n",
       "    <tr>\n",
       "      <th>9</th>\n",
       "      <td>medium</td>\n",
       "      <td>2</td>\n",
       "      <td>medium</td>\n",
       "    </tr>\n",
       "    <tr>\n",
       "      <th>10</th>\n",
       "      <td>large</td>\n",
       "      <td>3</td>\n",
       "      <td>large</td>\n",
       "    </tr>\n",
       "  </tbody>\n",
       "</table>\n",
       "</div>"
      ],
      "text/plain": [
       "     sizes  sizes_codes sizes_decoded\n",
       "0    small            1         small\n",
       "1   medium            2        medium\n",
       "2    large            3         large\n",
       "3    small            1         small\n",
       "4   medium            2        medium\n",
       "5    large            3         large\n",
       "6    small            1         small\n",
       "7   medium            2        medium\n",
       "8    large            3         large\n",
       "9   medium            2        medium\n",
       "10   large            3         large"
      ]
     },
     "execution_count": 73,
     "metadata": {},
     "output_type": "execute_result"
    }
   ],
   "source": [
    "pd_sizes['sizes_decoded'] = pd_sizes['sizes_codes'].map({1:'small', 2:'medium', 3:'large'})\n",
    "pd_sizes"
   ]
  },
  {
   "cell_type": "markdown",
   "metadata": {},
   "source": [
    "### Кодирование категорий наборами бинарных значений - one-hot encoding"
   ]
  },
  {
   "cell_type": "code",
   "execution_count": 74,
   "metadata": {},
   "outputs": [],
   "source": [
    "from sklearn.preprocessing import OneHotEncoder"
   ]
  },
  {
   "cell_type": "code",
   "execution_count": 75,
   "metadata": {},
   "outputs": [],
   "source": [
    "ohe = OneHotEncoder()\n",
    "cat_enc_ohe = ohe.fit_transform(cat_enc[['language_code']])"
   ]
  },
  {
   "cell_type": "code",
   "execution_count": 76,
   "metadata": {},
   "outputs": [
    {
     "data": {
      "text/plain": [
       "(1354, 1)"
      ]
     },
     "execution_count": 76,
     "metadata": {},
     "output_type": "execute_result"
    }
   ],
   "source": [
    "cat_enc.shape"
   ]
  },
  {
   "cell_type": "code",
   "execution_count": 77,
   "metadata": {},
   "outputs": [
    {
     "data": {
      "text/plain": [
       "(1354, 7)"
      ]
     },
     "execution_count": 77,
     "metadata": {},
     "output_type": "execute_result"
    }
   ],
   "source": [
    "cat_enc_ohe.shape"
   ]
  },
  {
   "cell_type": "code",
   "execution_count": 78,
   "metadata": {},
   "outputs": [
    {
     "data": {
      "text/plain": [
       "<1354x7 sparse matrix of type '<class 'numpy.float64'>'\n",
       "\twith 1354 stored elements in Compressed Sparse Row format>"
      ]
     },
     "execution_count": 78,
     "metadata": {},
     "output_type": "execute_result"
    }
   ],
   "source": [
    "cat_enc_ohe"
   ]
  },
  {
   "cell_type": "code",
   "execution_count": 79,
   "metadata": {},
   "outputs": [
    {
     "data": {
      "text/plain": [
       "matrix([[0., 0., 0., 1., 0., 0., 0.],\n",
       "        [0., 0., 0., 1., 0., 0., 0.],\n",
       "        [0., 0., 1., 0., 0., 0., 0.],\n",
       "        [0., 0., 0., 1., 0., 0., 0.],\n",
       "        [0., 0., 0., 1., 0., 0., 0.],\n",
       "        [0., 0., 0., 1., 0., 0., 0.],\n",
       "        [0., 0., 0., 1., 0., 0., 0.],\n",
       "        [0., 0., 0., 1., 0., 0., 0.],\n",
       "        [0., 0., 0., 1., 0., 0., 0.],\n",
       "        [0., 0., 0., 1., 0., 0., 0.]])"
      ]
     },
     "execution_count": 79,
     "metadata": {},
     "output_type": "execute_result"
    }
   ],
   "source": [
    "cat_enc_ohe.todense()[0:10]"
   ]
  },
  {
   "cell_type": "code",
   "execution_count": 80,
   "metadata": {},
   "outputs": [
    {
     "data": {
      "text/html": [
       "<div>\n",
       "<style scoped>\n",
       "    .dataframe tbody tr th:only-of-type {\n",
       "        vertical-align: middle;\n",
       "    }\n",
       "\n",
       "    .dataframe tbody tr th {\n",
       "        vertical-align: top;\n",
       "    }\n",
       "\n",
       "    .dataframe thead th {\n",
       "        text-align: right;\n",
       "    }\n",
       "</style>\n",
       "<table border=\"1\" class=\"dataframe\">\n",
       "  <thead>\n",
       "    <tr style=\"text-align: right;\">\n",
       "      <th></th>\n",
       "      <th>language_code</th>\n",
       "    </tr>\n",
       "  </thead>\n",
       "  <tbody>\n",
       "    <tr>\n",
       "      <th>0</th>\n",
       "      <td>eng</td>\n",
       "    </tr>\n",
       "    <tr>\n",
       "      <th>1</th>\n",
       "      <td>eng</td>\n",
       "    </tr>\n",
       "    <tr>\n",
       "      <th>2</th>\n",
       "      <td>en-US</td>\n",
       "    </tr>\n",
       "    <tr>\n",
       "      <th>3</th>\n",
       "      <td>eng</td>\n",
       "    </tr>\n",
       "    <tr>\n",
       "      <th>4</th>\n",
       "      <td>eng</td>\n",
       "    </tr>\n",
       "    <tr>\n",
       "      <th>5</th>\n",
       "      <td>eng</td>\n",
       "    </tr>\n",
       "    <tr>\n",
       "      <th>6</th>\n",
       "      <td>eng</td>\n",
       "    </tr>\n",
       "    <tr>\n",
       "      <th>7</th>\n",
       "      <td>eng</td>\n",
       "    </tr>\n",
       "    <tr>\n",
       "      <th>8</th>\n",
       "      <td>eng</td>\n",
       "    </tr>\n",
       "    <tr>\n",
       "      <th>9</th>\n",
       "      <td>eng</td>\n",
       "    </tr>\n",
       "  </tbody>\n",
       "</table>\n",
       "</div>"
      ],
      "text/plain": [
       "  language_code\n",
       "0           eng\n",
       "1           eng\n",
       "2         en-US\n",
       "3           eng\n",
       "4           eng\n",
       "5           eng\n",
       "6           eng\n",
       "7           eng\n",
       "8           eng\n",
       "9           eng"
      ]
     },
     "execution_count": 80,
     "metadata": {},
     "output_type": "execute_result"
    }
   ],
   "source": [
    "cat_enc.head(10)"
   ]
  },
  {
   "cell_type": "markdown",
   "metadata": {},
   "source": [
    "### Pandas get_dummies - быстрый вариант one-hot кодирования"
   ]
  },
  {
   "cell_type": "code",
   "execution_count": 81,
   "metadata": {},
   "outputs": [
    {
     "data": {
      "text/html": [
       "<div>\n",
       "<style scoped>\n",
       "    .dataframe tbody tr th:only-of-type {\n",
       "        vertical-align: middle;\n",
       "    }\n",
       "\n",
       "    .dataframe tbody tr th {\n",
       "        vertical-align: top;\n",
       "    }\n",
       "\n",
       "    .dataframe thead th {\n",
       "        text-align: right;\n",
       "    }\n",
       "</style>\n",
       "<table border=\"1\" class=\"dataframe\">\n",
       "  <thead>\n",
       "    <tr style=\"text-align: right;\">\n",
       "      <th></th>\n",
       "      <th>language_code_en-CA</th>\n",
       "      <th>language_code_en-GB</th>\n",
       "      <th>language_code_en-US</th>\n",
       "      <th>language_code_eng</th>\n",
       "      <th>language_code_ger</th>\n",
       "      <th>language_code_ind</th>\n",
       "      <th>language_code_spa</th>\n",
       "    </tr>\n",
       "  </thead>\n",
       "  <tbody>\n",
       "    <tr>\n",
       "      <th>0</th>\n",
       "      <td>False</td>\n",
       "      <td>False</td>\n",
       "      <td>False</td>\n",
       "      <td>True</td>\n",
       "      <td>False</td>\n",
       "      <td>False</td>\n",
       "      <td>False</td>\n",
       "    </tr>\n",
       "    <tr>\n",
       "      <th>1</th>\n",
       "      <td>False</td>\n",
       "      <td>False</td>\n",
       "      <td>False</td>\n",
       "      <td>True</td>\n",
       "      <td>False</td>\n",
       "      <td>False</td>\n",
       "      <td>False</td>\n",
       "    </tr>\n",
       "    <tr>\n",
       "      <th>2</th>\n",
       "      <td>False</td>\n",
       "      <td>False</td>\n",
       "      <td>True</td>\n",
       "      <td>False</td>\n",
       "      <td>False</td>\n",
       "      <td>False</td>\n",
       "      <td>False</td>\n",
       "    </tr>\n",
       "    <tr>\n",
       "      <th>3</th>\n",
       "      <td>False</td>\n",
       "      <td>False</td>\n",
       "      <td>False</td>\n",
       "      <td>True</td>\n",
       "      <td>False</td>\n",
       "      <td>False</td>\n",
       "      <td>False</td>\n",
       "    </tr>\n",
       "    <tr>\n",
       "      <th>4</th>\n",
       "      <td>False</td>\n",
       "      <td>False</td>\n",
       "      <td>False</td>\n",
       "      <td>True</td>\n",
       "      <td>False</td>\n",
       "      <td>False</td>\n",
       "      <td>False</td>\n",
       "    </tr>\n",
       "  </tbody>\n",
       "</table>\n",
       "</div>"
      ],
      "text/plain": [
       "   language_code_en-CA  language_code_en-GB  language_code_en-US  \\\n",
       "0                False                False                False   \n",
       "1                False                False                False   \n",
       "2                False                False                 True   \n",
       "3                False                False                False   \n",
       "4                False                False                False   \n",
       "\n",
       "   language_code_eng  language_code_ger  language_code_ind  language_code_spa  \n",
       "0               True              False              False              False  \n",
       "1               True              False              False              False  \n",
       "2              False              False              False              False  \n",
       "3               True              False              False              False  \n",
       "4               True              False              False              False  "
      ]
     },
     "execution_count": 81,
     "metadata": {},
     "output_type": "execute_result"
    }
   ],
   "source": [
    "pd.get_dummies(cat_enc).head()"
   ]
  },
  {
   "cell_type": "code",
   "execution_count": 82,
   "metadata": {},
   "outputs": [
    {
     "data": {
      "text/html": [
       "<div>\n",
       "<style scoped>\n",
       "    .dataframe tbody tr th:only-of-type {\n",
       "        vertical-align: middle;\n",
       "    }\n",
       "\n",
       "    .dataframe tbody tr th {\n",
       "        vertical-align: top;\n",
       "    }\n",
       "\n",
       "    .dataframe thead th {\n",
       "        text-align: right;\n",
       "    }\n",
       "</style>\n",
       "<table border=\"1\" class=\"dataframe\">\n",
       "  <thead>\n",
       "    <tr style=\"text-align: right;\">\n",
       "      <th></th>\n",
       "      <th>language_code_en-CA</th>\n",
       "      <th>language_code_en-GB</th>\n",
       "      <th>language_code_en-US</th>\n",
       "      <th>language_code_eng</th>\n",
       "      <th>language_code_ger</th>\n",
       "      <th>language_code_ind</th>\n",
       "      <th>language_code_spa</th>\n",
       "      <th>language_code_nan</th>\n",
       "    </tr>\n",
       "  </thead>\n",
       "  <tbody>\n",
       "    <tr>\n",
       "      <th>0</th>\n",
       "      <td>False</td>\n",
       "      <td>False</td>\n",
       "      <td>False</td>\n",
       "      <td>True</td>\n",
       "      <td>False</td>\n",
       "      <td>False</td>\n",
       "      <td>False</td>\n",
       "      <td>False</td>\n",
       "    </tr>\n",
       "    <tr>\n",
       "      <th>1</th>\n",
       "      <td>False</td>\n",
       "      <td>False</td>\n",
       "      <td>False</td>\n",
       "      <td>True</td>\n",
       "      <td>False</td>\n",
       "      <td>False</td>\n",
       "      <td>False</td>\n",
       "      <td>False</td>\n",
       "    </tr>\n",
       "    <tr>\n",
       "      <th>2</th>\n",
       "      <td>False</td>\n",
       "      <td>False</td>\n",
       "      <td>True</td>\n",
       "      <td>False</td>\n",
       "      <td>False</td>\n",
       "      <td>False</td>\n",
       "      <td>False</td>\n",
       "      <td>False</td>\n",
       "    </tr>\n",
       "    <tr>\n",
       "      <th>3</th>\n",
       "      <td>False</td>\n",
       "      <td>False</td>\n",
       "      <td>False</td>\n",
       "      <td>True</td>\n",
       "      <td>False</td>\n",
       "      <td>False</td>\n",
       "      <td>False</td>\n",
       "      <td>False</td>\n",
       "    </tr>\n",
       "    <tr>\n",
       "      <th>4</th>\n",
       "      <td>False</td>\n",
       "      <td>False</td>\n",
       "      <td>False</td>\n",
       "      <td>True</td>\n",
       "      <td>False</td>\n",
       "      <td>False</td>\n",
       "      <td>False</td>\n",
       "      <td>False</td>\n",
       "    </tr>\n",
       "  </tbody>\n",
       "</table>\n",
       "</div>"
      ],
      "text/plain": [
       "   language_code_en-CA  language_code_en-GB  language_code_en-US  \\\n",
       "0                False                False                False   \n",
       "1                False                False                False   \n",
       "2                False                False                 True   \n",
       "3                False                False                False   \n",
       "4                False                False                False   \n",
       "\n",
       "   language_code_eng  language_code_ger  language_code_ind  language_code_spa  \\\n",
       "0               True              False              False              False   \n",
       "1               True              False              False              False   \n",
       "2              False              False              False              False   \n",
       "3               True              False              False              False   \n",
       "4               True              False              False              False   \n",
       "\n",
       "   language_code_nan  \n",
       "0              False  \n",
       "1              False  \n",
       "2              False  \n",
       "3              False  \n",
       "4              False  "
      ]
     },
     "execution_count": 82,
     "metadata": {},
     "output_type": "execute_result"
    }
   ],
   "source": [
    "pd.get_dummies(cat_temp_data, dummy_na=True).head()"
   ]
  },
  {
   "cell_type": "markdown",
   "metadata": {},
   "source": [
    "### MinMax масштабирование"
   ]
  },
  {
   "cell_type": "code",
   "execution_count": 83,
   "metadata": {},
   "outputs": [],
   "source": [
    "from sklearn.preprocessing import MinMaxScaler, StandardScaler, Normalizer"
   ]
  },
  {
   "cell_type": "code",
   "execution_count": 84,
   "metadata": {},
   "outputs": [],
   "source": [
    "sc1 = MinMaxScaler()\n",
    "sc1_data = sc1.fit_transform(data[['average_rating']])"
   ]
  },
  {
   "cell_type": "code",
   "execution_count": 85,
   "metadata": {},
   "outputs": [
    {
     "data": {
      "image/png": "[encoded data removed]",
      "text/plain": [
       "<Figure size 640x480 with 1 Axes>"
      ]
     },
     "metadata": {},
     "output_type": "display_data"
    }
   ],
   "source": [
    "plt.hist(data['average_rating'], 50)\n",
    "plt.show()"
   ]
  },
  {
   "cell_type": "code",
   "execution_count": 86,
   "metadata": {},
   "outputs": [
    {
     "data": {
      "image/png": "[encoded data removed]",
      "text/plain": [
       "<Figure size 640x480 with 1 Axes>"
      ]
     },
     "metadata": {},
     "output_type": "display_data"
    }
   ],
   "source": [
    "plt.hist(sc1_data, 50)\n",
    "plt.show()"
   ]
  },
  {
   "cell_type": "markdown",
   "metadata": {},
   "source": [
    "### Масштабирование данных на основе Z-оценки - StandardScaler"
   ]
  },
  {
   "cell_type": "code",
   "execution_count": 87,
   "metadata": {},
   "outputs": [],
   "source": [
    "sc2 = StandardScaler()\n",
    "sc2_data = sc2.fit_transform(data[['average_rating']])"
   ]
  },
  {
   "cell_type": "code",
   "execution_count": 88,
   "metadata": {},
   "outputs": [
    {
     "data": {
      "image/png": "[encoded data removed]",
      "text/plain": [
       "<Figure size 640x480 with 1 Axes>"
      ]
     },
     "metadata": {},
     "output_type": "display_data"
    }
   ],
   "source": [
    "plt.hist(sc2_data, 50)\n",
    "plt.show()"
   ]
  }
 ],
 "metadata": {
  "kernelspec": {
   "display_name": "venv",
   "language": "python",
   "name": "python3"
  },
  "language_info": {
   "codemirror_mode": {
    "name": "ipython",
    "version": 3
   },
   "file_extension": ".py",
   "mimetype": "text/x-python",
   "name": "python",
   "nbconvert_exporter": "python",
   "pygments_lexer": "ipython3",
   "version": "3.11.7"
  }
 },
 "nbformat": 4,
 "nbformat_minor": 2
}
